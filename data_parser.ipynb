{
 "cells": [
  {
   "cell_type": "markdown",
   "id": "026c329e",
   "metadata": {},
   "source": [
    "# FRIENDS Datasets Analysis, Parsing, and Preprocessing"
   ]
  },
  {
   "cell_type": "code",
   "execution_count": 1,
   "id": "initial_id",
   "metadata": {
    "ExecuteTime": {
     "end_time": "2025-09-24T11:01:32.942592Z",
     "start_time": "2025-09-24T11:01:32.310225Z"
    }
   },
   "outputs": [],
   "source": [
    "import matplotlib.pyplot as plt\n",
    "import pandas as pd\n",
    "import numpy as np\n",
    "import re"
   ]
  },
  {
   "cell_type": "code",
   "execution_count": 2,
   "id": "125acacb10370d96",
   "metadata": {
    "ExecuteTime": {
     "end_time": "2025-09-24T11:17:51.144914Z",
     "start_time": "2025-09-24T11:17:50.953020Z"
    }
   },
   "outputs": [],
   "source": [
    "# script and IMDB ratings imports\n",
    "df_script = pd.read_csv(\"friends_all_episodes_clean.csv\")\n",
    "df_rating = pd.read_csv(\"friends_episodes_v3.csv\", encoding='latin-1')"
   ]
  },
  {
   "cell_type": "markdown",
   "id": "df432fa3",
   "metadata": {},
   "source": [
    "---\n",
    "\n",
    "## Script Dataset Preprocessing\n",
    "\n",
    "Checking per column what attributes are available or can be derived. Also checking what preprocessing is needed and implementing it. The dataset is from Kaggle, made by users Bree Nguyen and Blesson Densil, accessible [here](https://www.kaggle.com/datasets/brzy56/friends-tv-television-scripts-all-dialogue-csv).\n",
    "\n",
    "The column names and descriptions are:\n",
    "- `episode_number` — Episode code (e.g., `S01E01`)\n",
    "- `title` — Episode title\n",
    "- `writers` — Writer(s) of the episode\n",
    "- `type` — Classification: dialogue, stage_direction, scene_note, content\n",
    "- `speaker` — Character speaking (blank if not dialogue)\n",
    "- `dialogue_raw` — Original dialogue text (includes inline notes)\n",
    "- `dialogue_clean` — Dialogue text with inline notes removed\n",
    "- `stage_direction_inline` — Inline parentheses content within dialogue\n",
    "- `scene_note_inline` — Inline bracket content within dialogue\n",
    "- `stage_direction_only` — For standalone stage direction lines\n",
    "- `scene_note_only` — For standalone scene note lines\n",
    "- `content` — Non‑dialogue text/content lines\n",
    "- `season` — Season number\n",
    "- `episode` — Episode number"
   ]
  },
  {
   "cell_type": "code",
   "execution_count": 3,
   "id": "251bee4554c88ab4",
   "metadata": {
    "ExecuteTime": {
     "end_time": "2025-09-24T11:04:27.911901Z",
     "start_time": "2025-09-24T11:04:27.885222Z"
    }
   },
   "outputs": [
    {
     "data": {
      "text/html": [
       "<div>\n",
       "<style scoped>\n",
       "    .dataframe tbody tr th:only-of-type {\n",
       "        vertical-align: middle;\n",
       "    }\n",
       "\n",
       "    .dataframe tbody tr th {\n",
       "        vertical-align: top;\n",
       "    }\n",
       "\n",
       "    .dataframe thead th {\n",
       "        text-align: right;\n",
       "    }\n",
       "</style>\n",
       "<table border=\"1\" class=\"dataframe\">\n",
       "  <thead>\n",
       "    <tr style=\"text-align: right;\">\n",
       "      <th></th>\n",
       "      <th>episode_number</th>\n",
       "      <th>title</th>\n",
       "      <th>writers</th>\n",
       "      <th>type</th>\n",
       "      <th>speaker</th>\n",
       "      <th>dialogue_raw</th>\n",
       "      <th>dialogue_clean</th>\n",
       "      <th>stage_direction_inline</th>\n",
       "      <th>scene_note_inline</th>\n",
       "      <th>stage_direction_only</th>\n",
       "      <th>scene_note_only</th>\n",
       "      <th>content</th>\n",
       "      <th>season</th>\n",
       "      <th>episode</th>\n",
       "    </tr>\n",
       "  </thead>\n",
       "  <tbody>\n",
       "    <tr>\n",
       "      <th>0</th>\n",
       "      <td>S01E01</td>\n",
       "      <td>The One Where Monica Gets a New Roommate (The ...</td>\n",
       "      <td>Marta Kauffman &amp; David Crane</td>\n",
       "      <td>scene_note</td>\n",
       "      <td>NaN</td>\n",
       "      <td>NaN</td>\n",
       "      <td>NaN</td>\n",
       "      <td>NaN</td>\n",
       "      <td>NaN</td>\n",
       "      <td>NaN</td>\n",
       "      <td>Scene: Central Perk, Chandler, Joey, Phoebe, a...</td>\n",
       "      <td>NaN</td>\n",
       "      <td>1.0</td>\n",
       "      <td>1.0</td>\n",
       "    </tr>\n",
       "    <tr>\n",
       "      <th>1</th>\n",
       "      <td>S01E01</td>\n",
       "      <td>The One Where Monica Gets a New Roommate (The ...</td>\n",
       "      <td>Marta Kauffman &amp; David Crane</td>\n",
       "      <td>dialogue</td>\n",
       "      <td>Monica</td>\n",
       "      <td>There's nothing to tell! He's just some guy I ...</td>\n",
       "      <td>There's nothing to tell! He's just some guy I ...</td>\n",
       "      <td>NaN</td>\n",
       "      <td>NaN</td>\n",
       "      <td>NaN</td>\n",
       "      <td>NaN</td>\n",
       "      <td>NaN</td>\n",
       "      <td>1.0</td>\n",
       "      <td>1.0</td>\n",
       "    </tr>\n",
       "    <tr>\n",
       "      <th>2</th>\n",
       "      <td>S01E01</td>\n",
       "      <td>The One Where Monica Gets a New Roommate (The ...</td>\n",
       "      <td>Marta Kauffman &amp; David Crane</td>\n",
       "      <td>dialogue</td>\n",
       "      <td>Joey</td>\n",
       "      <td>C'mon, you're going out with the guy! There's ...</td>\n",
       "      <td>C'mon, you're going out with the guy! There's ...</td>\n",
       "      <td>NaN</td>\n",
       "      <td>NaN</td>\n",
       "      <td>NaN</td>\n",
       "      <td>NaN</td>\n",
       "      <td>NaN</td>\n",
       "      <td>1.0</td>\n",
       "      <td>1.0</td>\n",
       "    </tr>\n",
       "    <tr>\n",
       "      <th>3</th>\n",
       "      <td>S01E01</td>\n",
       "      <td>The One Where Monica Gets a New Roommate (The ...</td>\n",
       "      <td>Marta Kauffman &amp; David Crane</td>\n",
       "      <td>dialogue</td>\n",
       "      <td>Chandler</td>\n",
       "      <td>All right Joey, be nice.  So does he have a hu...</td>\n",
       "      <td>All right Joey, be nice.  So does he have a hu...</td>\n",
       "      <td>NaN</td>\n",
       "      <td>NaN</td>\n",
       "      <td>NaN</td>\n",
       "      <td>NaN</td>\n",
       "      <td>NaN</td>\n",
       "      <td>1.0</td>\n",
       "      <td>1.0</td>\n",
       "    </tr>\n",
       "    <tr>\n",
       "      <th>4</th>\n",
       "      <td>S01E01</td>\n",
       "      <td>The One Where Monica Gets a New Roommate (The ...</td>\n",
       "      <td>Marta Kauffman &amp; David Crane</td>\n",
       "      <td>dialogue</td>\n",
       "      <td>Phoebe</td>\n",
       "      <td>Wait, does he eat chalk?</td>\n",
       "      <td>Wait, does he eat chalk?</td>\n",
       "      <td>NaN</td>\n",
       "      <td>NaN</td>\n",
       "      <td>NaN</td>\n",
       "      <td>NaN</td>\n",
       "      <td>NaN</td>\n",
       "      <td>1.0</td>\n",
       "      <td>1.0</td>\n",
       "    </tr>\n",
       "  </tbody>\n",
       "</table>\n",
       "</div>"
      ],
      "text/plain": [
       "  episode_number                                              title  \\\n",
       "0         S01E01  The One Where Monica Gets a New Roommate (The ...   \n",
       "1         S01E01  The One Where Monica Gets a New Roommate (The ...   \n",
       "2         S01E01  The One Where Monica Gets a New Roommate (The ...   \n",
       "3         S01E01  The One Where Monica Gets a New Roommate (The ...   \n",
       "4         S01E01  The One Where Monica Gets a New Roommate (The ...   \n",
       "\n",
       "                        writers        type   speaker  \\\n",
       "0  Marta Kauffman & David Crane  scene_note       NaN   \n",
       "1  Marta Kauffman & David Crane    dialogue    Monica   \n",
       "2  Marta Kauffman & David Crane    dialogue      Joey   \n",
       "3  Marta Kauffman & David Crane    dialogue  Chandler   \n",
       "4  Marta Kauffman & David Crane    dialogue    Phoebe   \n",
       "\n",
       "                                        dialogue_raw  \\\n",
       "0                                                NaN   \n",
       "1  There's nothing to tell! He's just some guy I ...   \n",
       "2  C'mon, you're going out with the guy! There's ...   \n",
       "3  All right Joey, be nice.  So does he have a hu...   \n",
       "4                           Wait, does he eat chalk?   \n",
       "\n",
       "                                      dialogue_clean stage_direction_inline  \\\n",
       "0                                                NaN                    NaN   \n",
       "1  There's nothing to tell! He's just some guy I ...                    NaN   \n",
       "2  C'mon, you're going out with the guy! There's ...                    NaN   \n",
       "3  All right Joey, be nice.  So does he have a hu...                    NaN   \n",
       "4                           Wait, does he eat chalk?                    NaN   \n",
       "\n",
       "  scene_note_inline stage_direction_only  \\\n",
       "0               NaN                  NaN   \n",
       "1               NaN                  NaN   \n",
       "2               NaN                  NaN   \n",
       "3               NaN                  NaN   \n",
       "4               NaN                  NaN   \n",
       "\n",
       "                                     scene_note_only content  season  episode  \n",
       "0  Scene: Central Perk, Chandler, Joey, Phoebe, a...     NaN     1.0      1.0  \n",
       "1                                                NaN     NaN     1.0      1.0  \n",
       "2                                                NaN     NaN     1.0      1.0  \n",
       "3                                                NaN     NaN     1.0      1.0  \n",
       "4                                                NaN     NaN     1.0      1.0  "
      ]
     },
     "execution_count": 3,
     "metadata": {},
     "output_type": "execute_result"
    }
   ],
   "source": [
    "df_script.head(5)"
   ]
  },
  {
   "cell_type": "markdown",
   "id": "1069aadf",
   "metadata": {},
   "source": [
    "### \"title\" using `ratings` and \"episode_number\", \"episode\", and \"season\"\n",
    "\n",
    "All episode titles start with \"The One With / Where\". Some values need preprocessing to add the full title or for formatting/typos. This preprocessing is possible using the `ratings` dataset. \n",
    "\n",
    "First, episodes split into parts need preprocessing. In `ratings` they are separate, but in `script` they appear together 9/10 times. First the episodes need to be split, then `episode_number`, `episode`, and `season` need to be calculated. `episode` and `season` can then be matched between the two datasets to clean the `script` dataset's column."
   ]
  },
  {
   "cell_type": "markdown",
   "id": "ce27e37f",
   "metadata": {},
   "source": [
    "There is a short included in the episode called \"Friends Special: The Stuff You've Never Seen\". Since this is not a part of the series, it is removed from the dataset."
   ]
  },
  {
   "cell_type": "code",
   "execution_count": 4,
   "id": "4d7e3f72",
   "metadata": {},
   "outputs": [],
   "source": [
    "df_script = df_script[~(df_script[\"episode_number\"] == \"S07E24\")]"
   ]
  },
  {
   "cell_type": "markdown",
   "id": "c7959092",
   "metadata": {},
   "source": [
    "There is a column called `episode_number` with the format SxxEyy, where xx is the `season` number and yy is the `episode` number. We impute these for an easier preprocessing experience."
   ]
  },
  {
   "cell_type": "code",
   "execution_count": 5,
   "id": "530578da",
   "metadata": {},
   "outputs": [],
   "source": [
    "# make everything upper case\n",
    "df_script[\"episode_number\"] = df_script[\"episode_number\"].str.upper()"
   ]
  },
  {
   "cell_type": "code",
   "execution_count": 6,
   "id": "5f6dd660",
   "metadata": {},
   "outputs": [],
   "source": [
    "# impute missing \"season\" and \"episode\" values from \"episode_number\"\n",
    "df_script[\"season\"] = df_script['episode_number'].str.extract('S(\\d{2})E(\\d{2})', expand=True)[0]\n",
    "df_script[\"episode\"] = df_script['episode_number'].str.extract('S(\\d{2})E(\\d{2})', expand=True)[1]"
   ]
  },
  {
   "cell_type": "code",
   "execution_count": 7,
   "id": "934c3c33",
   "metadata": {},
   "outputs": [],
   "source": [
    "# fix type of episode and season\n",
    "df_script[\"episode\"] = df_script[\"episode\"].astype(int)\n",
    "df_script[\"season\"] = df_script[\"season\"].astype(int)"
   ]
  },
  {
   "cell_type": "code",
   "execution_count": 8,
   "id": "fa7642ae",
   "metadata": {},
   "outputs": [
    {
     "data": {
      "text/plain": [
       "array(['The Late Thanksgiving', 'The Birth Mother',\n",
       "       'Chandler Gets Caught', 'The Stripper Cries', 'Phoebes Wedding',\n",
       "       'Joey Speaks French', 'Princess Consuela', 'Estelle Dies',\n",
       "       'Rachels Going Away Party', 'The Last One Part I  II'],\n",
       "      dtype=object)"
      ]
     },
     "execution_count": 8,
     "metadata": {},
     "output_type": "execute_result"
    }
   ],
   "source": [
    "df_script[\"title\"].unique()[-10:]"
   ]
  },
  {
   "cell_type": "markdown",
   "id": "5f63fcb7",
   "metadata": {},
   "source": [
    "Some episodes have a Part 1 and a Part 2. Here, \"episode\" alone only shows the first episode's number and not the second's.  We could add a binary attribute which indicates when an episode is part of a Part 1 and Part 2.\n",
    "\n",
    "There are 10 two-part episodes in FRIENDS, but the dataset only identifies 4 of them."
   ]
  },
  {
   "cell_type": "code",
   "execution_count": 9,
   "id": "2d4015848ffcfe3e",
   "metadata": {
    "ExecuteTime": {
     "end_time": "2025-09-24T11:22:11.028152Z",
     "start_time": "2025-09-24T11:22:11.020528Z"
    }
   },
   "outputs": [
    {
     "name": "stdout",
     "output_type": "stream",
     "text": [
      "S02E12-S02E13\n",
      "S06E15-S06E16\n",
      "S09E23-S09E24\n",
      "S10E17-S10E18\n"
     ]
    }
   ],
   "source": [
    "# Four entries in \"episode_number\" are Part 1 and Part 2 episodes\n",
    "parts_list = []\n",
    "\n",
    "for ep in df_script[\"episode_number\"].unique():\n",
    "    if \"-\" in  ep:\n",
    "        print(ep)\n",
    "        parts_list.append(ep)"
   ]
  },
  {
   "cell_type": "code",
   "execution_count": 10,
   "id": "f86bf66389a027ea",
   "metadata": {
    "ExecuteTime": {
     "end_time": "2025-09-24T11:27:05.049201Z",
     "start_time": "2025-09-24T11:27:05.036649Z"
    }
   },
   "outputs": [
    {
     "name": "stdout",
     "output_type": "stream",
     "text": [
      "True\n",
      "True\n",
      "True\n",
      "True\n"
     ]
    }
   ],
   "source": [
    "# \"episode\" only shows the first episode and not the second in parts\n",
    "# df_script[df_script[\"episode_number\"] == \"S02E12-S02E13\"]\n",
    "print(df_script[(df_script[\"episode_number\"] == \"S02E12-S02E13\") & (df_script[\"episode\"] == \"13\")].empty)\n",
    "print(df_script[(df_script[\"episode_number\"] == \"S06E15-S06E16\") & (df_script[\"episode\"] == \"16\")].empty)\n",
    "print(df_script[(df_script[\"episode_number\"] == \"S09E23-S09E24\") & (df_script[\"episode\"] == \"24\")].empty)\n",
    "print(df_script[(df_script[\"episode_number\"] == \"S10E17-S10E18\") & (df_script[\"episode\"] == \"18\")].empty)"
   ]
  },
  {
   "cell_type": "markdown",
   "id": "73f69a2d",
   "metadata": {},
   "source": [
    "There need to be 236 episodes in the dataset, which matches with the `rating` dataset. There are currently less as a result of the non-splitting of two-part episodes.\n",
    "\n",
    "- `The One With Two Parts` is split into 2 (S01E16, S01E17)\n",
    "\n",
    "Episodes the dataset recognizes as two-part by way of SxxEyy-SxxEzz in the `episode_number`, but appear as one row:\n",
    "- `The One After the Superbowl` (S02E12-S02E13)\n",
    "- `The One That Could Have Been` (S06E15-S06E16)\n",
    "-  `(The One) In Barbados` (S09E23-S09E24)\n",
    "- `The Last One Part I  II` (S10E17-S10E18)\n",
    "\n",
    "Episodes the dataset does not recognize as two-part and appear in one row:\n",
    "- `The One With Ross’s Wedding Parts I and II` (S04E23)\n",
    "- `The One In Vegas` (S05E23)\n",
    "- `The One With The Proposal` (S06E24)\n",
    "- `The One With Chandler and Monica’s Wedding` (S07E23)\n",
    "- `The One Where Rachel Has A Baby` (S08E23)"
   ]
  },
  {
   "cell_type": "markdown",
   "id": "b0023cba",
   "metadata": {},
   "source": [
    "The nine two-parts need to be split based on the `dialogue_clean` column."
   ]
  },
  {
   "cell_type": "code",
   "execution_count": 11,
   "id": "bb2365c5",
   "metadata": {},
   "outputs": [],
   "source": [
    "# Manually found markers or split points\n",
    "splits = [\n",
    "    # cutoff, old_value, before_value, after_value\n",
    "    (10165, \"S02E12-S02E13\", \"S02E12\", \"S02E13\"),\n",
    "    (39393, \"S06E15-S06E16\", \"S06E15\", \"S06E16\"),\n",
    "    (63849, \"S09E23-S09E24\", \"S09E23\", \"S09E24\"),\n",
    "    (70016, \"S10E17-S10E18\", \"S10E17\", \"S10E18\"),\n",
    "\n",
    "    # different label: single-episode splits (+1 for after)\n",
    "    (27635, \"S04E23\", \"S04E23\", \"S04E24\"),\n",
    "    (34793, \"S05E23\", \"S05E23\", \"S05E24\"),\n",
    "    (42169, \"S06E24\", \"S06E24\", \"S06E25\"),\n",
    "    (49274, \"S07E23\", \"S07E23\", \"S07E24\"),\n",
    "    (56567, \"S08E23\", \"S08E23\", \"S08E24\"),\n",
    "]"
   ]
  },
  {
   "cell_type": "code",
   "execution_count": 12,
   "id": "02c0b6d3",
   "metadata": {},
   "outputs": [],
   "source": [
    "# creating a copy to not ruin the OG dataset\n",
    "df = df_script.copy()\n",
    "for cutoff, old_val, before_val, after_val in splits:\n",
    "    df.loc[:cutoff, \"episode_number\"] = df.loc[:cutoff, \"episode_number\"].replace(old_val, before_val)\n",
    "    df.loc[cutoff+1:, \"episode_number\"] = df.loc[cutoff+1:, \"episode_number\"].replace(old_val, after_val)"
   ]
  },
  {
   "cell_type": "code",
   "execution_count": 13,
   "id": "e7c37887",
   "metadata": {},
   "outputs": [],
   "source": [
    "# REPEAT: impute missing \"season\" and \"episode\" values from \"episode_number\"\n",
    "df[\"season\"] = df['episode_number'].str.extract('S(\\d{2})E(\\d{2})', expand=True)[0]\n",
    "df[\"episode\"] = df['episode_number'].str.extract('S(\\d{2})E(\\d{2})', expand=True)[1]"
   ]
  },
  {
   "cell_type": "code",
   "execution_count": 14,
   "id": "a4517922",
   "metadata": {},
   "outputs": [],
   "source": [
    "# REPEAT: fix type of episode and season\n",
    "df[\"episode\"] = df[\"episode\"].astype(int)\n",
    "df[\"season\"] = df[\"season\"].astype(int)"
   ]
  },
  {
   "cell_type": "code",
   "execution_count": 15,
   "id": "22e87bda",
   "metadata": {},
   "outputs": [],
   "source": [
    "df_script[\"episode_number\"], df_script[\"episode\"], df_script[\"season\"] = df[\"episode_number\"], df[\"episode\"], df[\"season\"]"
   ]
  },
  {
   "cell_type": "code",
   "execution_count": 16,
   "id": "d2cd9989",
   "metadata": {},
   "outputs": [
    {
     "data": {
      "text/plain": [
       "236"
      ]
     },
     "execution_count": 16,
     "metadata": {},
     "output_type": "execute_result"
    }
   ],
   "source": [
    "# total number of episodes in the current dataset\n",
    "len(df_script[\"episode_number\"].unique())"
   ]
  },
  {
   "cell_type": "markdown",
   "id": "16ef55a4",
   "metadata": {},
   "source": [
    "Using the `ratings` dataset, it should now be possible to replace the misspelled and incorrectly formatted titles in the `script` dataset."
   ]
  },
  {
   "cell_type": "code",
   "execution_count": 17,
   "id": "a9d9699a",
   "metadata": {},
   "outputs": [
    {
     "data": {
      "text/html": [
       "<div>\n",
       "<style scoped>\n",
       "    .dataframe tbody tr th:only-of-type {\n",
       "        vertical-align: middle;\n",
       "    }\n",
       "\n",
       "    .dataframe tbody tr th {\n",
       "        vertical-align: top;\n",
       "    }\n",
       "\n",
       "    .dataframe thead th {\n",
       "        text-align: right;\n",
       "    }\n",
       "</style>\n",
       "<table border=\"1\" class=\"dataframe\">\n",
       "  <thead>\n",
       "    <tr style=\"text-align: right;\">\n",
       "      <th></th>\n",
       "      <th>Year_of_prod</th>\n",
       "      <th>Season</th>\n",
       "      <th>Episode Number</th>\n",
       "      <th>Episode_Title</th>\n",
       "      <th>Duration</th>\n",
       "      <th>Summary</th>\n",
       "      <th>Director</th>\n",
       "      <th>Stars</th>\n",
       "      <th>Votes</th>\n",
       "    </tr>\n",
       "  </thead>\n",
       "  <tbody>\n",
       "    <tr>\n",
       "      <th>231</th>\n",
       "      <td>2004</td>\n",
       "      <td>10</td>\n",
       "      <td>14</td>\n",
       "      <td>The One with Princess Consuela</td>\n",
       "      <td>22</td>\n",
       "      <td>When Phoebe goes to get her name changed she r...</td>\n",
       "      <td>Gary Halvorson</td>\n",
       "      <td>8.6</td>\n",
       "      <td>2989</td>\n",
       "    </tr>\n",
       "    <tr>\n",
       "      <th>232</th>\n",
       "      <td>2004</td>\n",
       "      <td>10</td>\n",
       "      <td>15</td>\n",
       "      <td>The One Where Estelle Dies</td>\n",
       "      <td>22</td>\n",
       "      <td>Ross tries to get Rachel to go back to Ralph L...</td>\n",
       "      <td>Gary Halvorson</td>\n",
       "      <td>8.5</td>\n",
       "      <td>2771</td>\n",
       "    </tr>\n",
       "    <tr>\n",
       "      <th>233</th>\n",
       "      <td>2004</td>\n",
       "      <td>10</td>\n",
       "      <td>16</td>\n",
       "      <td>The One with Rachel's Going Away Party</td>\n",
       "      <td>22</td>\n",
       "      <td>The gang throws Rachel a goodbye party, during...</td>\n",
       "      <td>Gary Halvorson</td>\n",
       "      <td>8.9</td>\n",
       "      <td>3141</td>\n",
       "    </tr>\n",
       "    <tr>\n",
       "      <th>234</th>\n",
       "      <td>2004</td>\n",
       "      <td>10</td>\n",
       "      <td>17</td>\n",
       "      <td>The Last One: Part 1</td>\n",
       "      <td>30</td>\n",
       "      <td>Erica gives birth to the baby that Monica and ...</td>\n",
       "      <td>Kevin Bright</td>\n",
       "      <td>9.5</td>\n",
       "      <td>6221</td>\n",
       "    </tr>\n",
       "    <tr>\n",
       "      <th>235</th>\n",
       "      <td>2004</td>\n",
       "      <td>10</td>\n",
       "      <td>18</td>\n",
       "      <td>The Last One: Part 2</td>\n",
       "      <td>30</td>\n",
       "      <td>Phoebe races Ross to the airport in a bid to s...</td>\n",
       "      <td>Kevin Bright</td>\n",
       "      <td>9.7</td>\n",
       "      <td>10381</td>\n",
       "    </tr>\n",
       "  </tbody>\n",
       "</table>\n",
       "</div>"
      ],
      "text/plain": [
       "     Year_of_prod  Season  Episode Number  \\\n",
       "231          2004      10              14   \n",
       "232          2004      10              15   \n",
       "233          2004      10              16   \n",
       "234          2004      10              17   \n",
       "235          2004      10              18   \n",
       "\n",
       "                              Episode_Title  Duration  \\\n",
       "231          The One with Princess Consuela        22   \n",
       "232              The One Where Estelle Dies        22   \n",
       "233  The One with Rachel's Going Away Party        22   \n",
       "234                    The Last One: Part 1        30   \n",
       "235                    The Last One: Part 2        30   \n",
       "\n",
       "                                               Summary        Director  Stars  \\\n",
       "231  When Phoebe goes to get her name changed she r...  Gary Halvorson    8.6   \n",
       "232  Ross tries to get Rachel to go back to Ralph L...  Gary Halvorson    8.5   \n",
       "233  The gang throws Rachel a goodbye party, during...  Gary Halvorson    8.9   \n",
       "234  Erica gives birth to the baby that Monica and ...    Kevin Bright    9.5   \n",
       "235  Phoebe races Ross to the airport in a bid to s...    Kevin Bright    9.7   \n",
       "\n",
       "     Votes  \n",
       "231   2989  \n",
       "232   2771  \n",
       "233   3141  \n",
       "234   6221  \n",
       "235  10381  "
      ]
     },
     "execution_count": 17,
     "metadata": {},
     "output_type": "execute_result"
    }
   ],
   "source": [
    "df_rating.tail(5)"
   ]
  },
  {
   "cell_type": "code",
   "execution_count": 18,
   "id": "59e05949",
   "metadata": {},
   "outputs": [],
   "source": [
    "# copy df again for the merge\n",
    "df1 = df_script.merge(\n",
    "    df_rating[[\"Season\", \"Episode Number\", \"Episode_Title\"]],\n",
    "    left_on=[\"season\", \"episode\"],\n",
    "    right_on=[\"Season\", \"Episode Number\"],\n",
    "    how=\"left\"\n",
    ")\n",
    "\n",
    "df1[\"title\"] = df1[\"Episode_Title\"]\n",
    "df1 = df1.drop(columns=[\"Season\", \"Episode Number\", \"Episode_Title\"])"
   ]
  },
  {
   "cell_type": "code",
   "execution_count": 19,
   "id": "fda77597",
   "metadata": {},
   "outputs": [],
   "source": [
    "# the \"title\" column has been replaced; add back to OG dataset\n",
    "df_script = df1.copy()"
   ]
  },
  {
   "cell_type": "code",
   "execution_count": 20,
   "id": "8de4bd9a",
   "metadata": {},
   "outputs": [
    {
     "data": {
      "image/png": "[encoded data removed]",
      "text/plain": [
       "<Figure size 640x480 with 1 Axes>"
      ]
     },
     "metadata": {},
     "output_type": "display_data"
    }
   ],
   "source": [
    "# number of episodes per season\n",
    "ep_per_season = df_script.groupby(\"season\")[\"episode\"].max()\n",
    "\n",
    "ep_per_season.plot(kind=\"bar\")\n",
    "\n",
    "plt.xlabel(\"Season\")\n",
    "plt.ylabel(\"Number of Episodes\")\n",
    "plt.title(\"Episodes per Season\")\n",
    "plt.show();"
   ]
  },
  {
   "cell_type": "markdown",
   "id": "1126b2f0",
   "metadata": {},
   "source": [
    "<div class=\"alert alert-block alert-info\">\n",
    "    This method fixed 4 columns at the same time, using an additional dataset to fix one of the columns. Splitting the two-part     episodes was also done manually using row indices, meaning these are not reliable values for later on, since rows are           removed based on certain contents.\n",
    "</div>"
   ]
  },
  {
   "cell_type": "markdown",
   "id": "1679422e",
   "metadata": {},
   "source": [
    "### Interlude: get rid of \"content\" column and rows\n",
    "Based on the column `type` for the rows and the column `content`. These contain commercial breaks, transcription notes, etc."
   ]
  },
  {
   "cell_type": "code",
   "execution_count": 21,
   "id": "f094039f",
   "metadata": {},
   "outputs": [
    {
     "data": {
      "text/plain": [
       "array([nan, 'Commercial Break', 'Closing Credits', 'End',\n",
       "       'Opening Credits'], dtype=object)"
      ]
     },
     "execution_count": 21,
     "metadata": {},
     "output_type": "execute_result"
    }
   ],
   "source": [
    "df_script[\"content\"].unique()[:5]"
   ]
  },
  {
   "cell_type": "code",
   "execution_count": 22,
   "id": "41559a8a",
   "metadata": {},
   "outputs": [
    {
     "data": {
      "text/html": [
       "<div>\n",
       "<style scoped>\n",
       "    .dataframe tbody tr th:only-of-type {\n",
       "        vertical-align: middle;\n",
       "    }\n",
       "\n",
       "    .dataframe tbody tr th {\n",
       "        vertical-align: top;\n",
       "    }\n",
       "\n",
       "    .dataframe thead th {\n",
       "        text-align: right;\n",
       "    }\n",
       "</style>\n",
       "<table border=\"1\" class=\"dataframe\">\n",
       "  <thead>\n",
       "    <tr style=\"text-align: right;\">\n",
       "      <th></th>\n",
       "      <th>episode_number</th>\n",
       "      <th>title</th>\n",
       "      <th>writers</th>\n",
       "      <th>type</th>\n",
       "      <th>speaker</th>\n",
       "      <th>dialogue_raw</th>\n",
       "      <th>dialogue_clean</th>\n",
       "      <th>stage_direction_inline</th>\n",
       "      <th>scene_note_inline</th>\n",
       "      <th>stage_direction_only</th>\n",
       "      <th>scene_note_only</th>\n",
       "      <th>content</th>\n",
       "      <th>season</th>\n",
       "      <th>episode</th>\n",
       "    </tr>\n",
       "  </thead>\n",
       "  <tbody>\n",
       "    <tr>\n",
       "      <th>121</th>\n",
       "      <td>S01E01</td>\n",
       "      <td>The One Where Monica Gets a Roommate: The Pilot</td>\n",
       "      <td>Marta Kauffman &amp; David Crane</td>\n",
       "      <td>content</td>\n",
       "      <td>NaN</td>\n",
       "      <td>NaN</td>\n",
       "      <td>NaN</td>\n",
       "      <td>NaN</td>\n",
       "      <td>NaN</td>\n",
       "      <td>NaN</td>\n",
       "      <td>NaN</td>\n",
       "      <td>Commercial Break</td>\n",
       "      <td>1</td>\n",
       "      <td>1</td>\n",
       "    </tr>\n",
       "    <tr>\n",
       "      <th>189</th>\n",
       "      <td>S01E01</td>\n",
       "      <td>The One Where Monica Gets a Roommate: The Pilot</td>\n",
       "      <td>Marta Kauffman &amp; David Crane</td>\n",
       "      <td>content</td>\n",
       "      <td>NaN</td>\n",
       "      <td>NaN</td>\n",
       "      <td>NaN</td>\n",
       "      <td>NaN</td>\n",
       "      <td>NaN</td>\n",
       "      <td>NaN</td>\n",
       "      <td>NaN</td>\n",
       "      <td>Commercial Break</td>\n",
       "      <td>1</td>\n",
       "      <td>1</td>\n",
       "    </tr>\n",
       "    <tr>\n",
       "      <th>318</th>\n",
       "      <td>S01E01</td>\n",
       "      <td>The One Where Monica Gets a Roommate: The Pilot</td>\n",
       "      <td>Marta Kauffman &amp; David Crane</td>\n",
       "      <td>content</td>\n",
       "      <td>NaN</td>\n",
       "      <td>NaN</td>\n",
       "      <td>NaN</td>\n",
       "      <td>NaN</td>\n",
       "      <td>NaN</td>\n",
       "      <td>NaN</td>\n",
       "      <td>NaN</td>\n",
       "      <td>Closing Credits</td>\n",
       "      <td>1</td>\n",
       "      <td>1</td>\n",
       "    </tr>\n",
       "    <tr>\n",
       "      <th>338</th>\n",
       "      <td>S01E01</td>\n",
       "      <td>The One Where Monica Gets a Roommate: The Pilot</td>\n",
       "      <td>Marta Kauffman &amp; David Crane</td>\n",
       "      <td>content</td>\n",
       "      <td>NaN</td>\n",
       "      <td>NaN</td>\n",
       "      <td>NaN</td>\n",
       "      <td>NaN</td>\n",
       "      <td>NaN</td>\n",
       "      <td>NaN</td>\n",
       "      <td>NaN</td>\n",
       "      <td>End</td>\n",
       "      <td>1</td>\n",
       "      <td>1</td>\n",
       "    </tr>\n",
       "    <tr>\n",
       "      <th>350</th>\n",
       "      <td>S01E02</td>\n",
       "      <td>The One with the Sonogram at the End</td>\n",
       "      <td>Marta Kauffman &amp; David Crane</td>\n",
       "      <td>content</td>\n",
       "      <td>NaN</td>\n",
       "      <td>NaN</td>\n",
       "      <td>NaN</td>\n",
       "      <td>NaN</td>\n",
       "      <td>NaN</td>\n",
       "      <td>NaN</td>\n",
       "      <td>NaN</td>\n",
       "      <td>Opening Credits</td>\n",
       "      <td>1</td>\n",
       "      <td>2</td>\n",
       "    </tr>\n",
       "  </tbody>\n",
       "</table>\n",
       "</div>"
      ],
      "text/plain": [
       "    episode_number                                            title  \\\n",
       "121         S01E01  The One Where Monica Gets a Roommate: The Pilot   \n",
       "189         S01E01  The One Where Monica Gets a Roommate: The Pilot   \n",
       "318         S01E01  The One Where Monica Gets a Roommate: The Pilot   \n",
       "338         S01E01  The One Where Monica Gets a Roommate: The Pilot   \n",
       "350         S01E02             The One with the Sonogram at the End   \n",
       "\n",
       "                          writers     type speaker dialogue_raw  \\\n",
       "121  Marta Kauffman & David Crane  content     NaN          NaN   \n",
       "189  Marta Kauffman & David Crane  content     NaN          NaN   \n",
       "318  Marta Kauffman & David Crane  content     NaN          NaN   \n",
       "338  Marta Kauffman & David Crane  content     NaN          NaN   \n",
       "350  Marta Kauffman & David Crane  content     NaN          NaN   \n",
       "\n",
       "    dialogue_clean stage_direction_inline scene_note_inline  \\\n",
       "121            NaN                    NaN               NaN   \n",
       "189            NaN                    NaN               NaN   \n",
       "318            NaN                    NaN               NaN   \n",
       "338            NaN                    NaN               NaN   \n",
       "350            NaN                    NaN               NaN   \n",
       "\n",
       "    stage_direction_only scene_note_only           content  season  episode  \n",
       "121                  NaN             NaN  Commercial Break       1        1  \n",
       "189                  NaN             NaN  Commercial Break       1        1  \n",
       "318                  NaN             NaN   Closing Credits       1        1  \n",
       "338                  NaN             NaN               End       1        1  \n",
       "350                  NaN             NaN   Opening Credits       1        2  "
      ]
     },
     "execution_count": 22,
     "metadata": {},
     "output_type": "execute_result"
    }
   ],
   "source": [
    "df_script[df_script[\"type\"] == \"content\"][:5]"
   ]
  },
  {
   "cell_type": "code",
   "execution_count": 23,
   "id": "7180585d",
   "metadata": {},
   "outputs": [
    {
     "name": "stdout",
     "output_type": "stream",
     "text": [
      "Before: (70074, 14)\n",
      "After: (68796, 13)\n"
     ]
    }
   ],
   "source": [
    "print(\"Before:\", df_script.shape)\n",
    "\n",
    "df_script = df_script.drop(\"content\", axis='columns').copy()\n",
    "df_script = df_script[df_script[\"type\"] != \"content\"]\n",
    "\n",
    "print(\"After:\", df_script.shape)"
   ]
  },
  {
   "cell_type": "markdown",
   "id": "ea3ecb10",
   "metadata": {},
   "source": [
    "### \"writers\"\n",
    "\n",
    "Writers sometimes had name changes (hyphenated surnames after marriage or new stage names). Along with these adjustments, misspellings were fixed. Missing writer names (for 81 episodes) were also filled in.\n",
    "\n",
    "In total there were 50 writers, some only working on one episode. The preprocessing below changes each writers cell into a list with all the authors.\n",
    "\n",
    "For the model, we may need to use `.explode()`."
   ]
  },
  {
   "cell_type": "code",
   "execution_count": 24,
   "id": "6af16703",
   "metadata": {},
   "outputs": [
    {
     "name": "stdout",
     "output_type": "stream",
     "text": [
      "['Marta Kauffman & David Crane', 'Jeffrey Astrof & Mike Sikowitz.', 'Alexa Junge', 'Jeff Greenstein & Jeff Strauss', 'Adam Chase & Ira Ungerleider', 'Jeffrey Astrof and Mike Sikowitz.', 'Marta Kaufmann & David Crane', 'Jeffrey Astrof, Mike Sikowitz, Adam Chase & Ira Ungerleider', 'Bill Lawrence', 'Jeffrey Astrof and Mike Sikowitz. .', 'Jeffrey Astrof & Mike Sikowitz', 'Doty Abrams', 'Adam Chase and Ira Ungerleider', 'Chris Brown', 'Jeff Astroff & Mike Sikowitz', 'Ira Ungerlieder.', 'Michael Curtis and Gregory S. Malins', 'Ira Ungerleider', 'Wil Calhoun', 'Scott Silveri & Shana Goldnerg-Meehan.', 'Seth Kurland', 'Adam Chase', 'Michael Borkow', 'Scott Silveri & Shana Goldberg-Meehan', 'Andrew Reich & Ted Cohen', 'Jill Condon & Any Toomin', 'Seth Kirkland', 'Michael Curtis & Gregory S. Malins', 'Scott Silveri', 'Jill Condon & Amy Toomin', 'Shana Goldberg-Meehan', 'Wil Calhoun & Scott Silveri', 'Michael Curtis', 'Perry Rein & Gigi McCreery', 'Greg Malins', 'Alicia Sky Varinaitis', 'Shana Goldberg-Meehan & Seth Kurland', 'Sherry Bilsing-Graham & Ellen Plummer', 'Perry Rein and Gigi McCreey', 'Brian Boyle', 'Sherry Bilsing & Ellen Plummer', 'Brian Buckner & Sebastian Jones', 'Patty Lin', 'Zack Rosenblatt', 'Shana Goldberg-Meehan and Scott Silveri', 'David Crane & Marta Kauffman', 'Dana Klein Borkow', 'Mark Kunerth', 'R. Lee Fleming, Jr.', 'Robert Carlock', 'Vanessa McCarthy', 'Brian Buckner and Sebastian Jones', 'unknown yet', 'Brian Buckner', 'Dana Klein', 'Sebastian Jones', 'Robert Carlock & Dana Klein', 'Sherry Bilding-Graham & Ellen Plummer']\n"
     ]
    }
   ],
   "source": [
    "print(df_script[\"writers\"].dropna().unique().tolist())"
   ]
  },
  {
   "cell_type": "code",
   "execution_count": 25,
   "id": "6be355b4",
   "metadata": {},
   "outputs": [],
   "source": [
    "def clean_writers(name):\n",
    "    if pd.isna(name) or name == \"unknown yet\" or name == \"\":\n",
    "        return np.nan\n",
    "    \n",
    "    name = str(name).strip()\n",
    "    \n",
    "    # Replace \" & \" and \" and \" with commas\n",
    "    name = re.sub(r\"\\s*(&|and)\\s*\", \",\", name, flags=re.IGNORECASE)\n",
    "    \n",
    "    # Special case: protect \", Jr.\" from being split\n",
    "    name = name.replace(\", Jr.\", \"§Jr.§\")\n",
    "    \n",
    "    # Remove unnecessary whitespace and \"..\" or trailing \".\"\n",
    "    name = re.sub(r\"\\s*,\\s*\", \",\", name)\n",
    "    name = re.sub(r\"\\.+$\", \"\", name)\n",
    "    name = re.sub(r\"\\s*\\.+\\s*$\", \"\", name)\n",
    "    \n",
    "    # Split into list and restore \"Jr.\"\n",
    "    parts = [n.strip() for n in name.split(\",\") if n.strip()]\n",
    "    parts = [p.replace(\"§Jr.§\", \", Jr.\") for p in parts]\n",
    "\n",
    "    return parts"
   ]
  },
  {
   "cell_type": "code",
   "execution_count": 26,
   "id": "54de13be",
   "metadata": {},
   "outputs": [],
   "source": [
    "# Dictionary mapping episode numbers to missing writers (74 episodes)\n",
    "missing_writers_dict = {\n",
    "    \"S01E23\": [\"Marta Kauffman\", \"David Crane\", \"Jeff Greenstein\", \"Jeff Astrof\"],\n",
    "    \"S02E03\": [\"Michael Curtis\", \"Greg Malins\"],\n",
    "    \"S02E15\": [\"Michael Curtis\", \"Greg Malins\"],\n",
    "    \"S02E19\": [\"Michael Curtis\", \"Greg Malins\"],\n",
    "    \"S02E04\": [\"Alexa Junge\"],\n",
    "    \"S02E14\": [\"Alexa Junge\"],\n",
    "    \"S02E22\": [\"Alexa Junge\"],\n",
    "    \"S02E05\": [\"Chris Brown\"],\n",
    "    \"S02E06\": [\"Betsy Borns\"],\n",
    "    \"S02E16\": [\"Betsy Borns\"],\n",
    "    \"S02E07\": [\"Michael Borkow\"],\n",
    "    \"S04E23\": [\"Michael Borkow\"],\n",
    "    \"S04E24\": [\"Shana Goldberg-Meehan\", \"Scott Silveri\"],\n",
    "    \"S02E08\": [\"Marta Kauffman\", \"David Crane\"],\n",
    "    \"S02E09\": [\"Jeff Astrof\", \"Mike Sikowitz\"],\n",
    "    \"S02E11\": [\"Doty Abrams\"],\n",
    "    \"S02E12\": [\"Jeff Astrof\", \"Mike Sikowitz\", \"Michael Borkow\"],\n",
    "    \"S02E13\": [\"Jeff Astrof\", \"Mike Sikowitz\", \"Michael Borkow\"],\n",
    "    \"S02E17\": [\"Adam Chase\"],\n",
    "    \"S02E18\": [\"Alexa Junge\", \"Michael Borkow\"],\n",
    "    \"S02E20\": [\"Adam Chase\", \"Michael Curtis\", \"Greg Malins\"],\n",
    "    \"S04E20\": [\"Adam Chase\", \"Michael Curtis\", \"Greg Malins\"],\n",
    "    \"S02E21\": [\"Sebastian Jones\", \"Brian Buckner\"],\n",
    "    \"S02E23\": [\"Brown Mandell\"],\n",
    "    \"S02E24\": [\"Ira Ungerleider\", \"Brown Mandell\"],\n",
    "    \"S03E24\": [\"Pang-Ni Landrum\", \"Mark J. Kunerth\", \"Shana Goldberg-Meehan\", \"Scott Silveri\"],\n",
    "    \"S03E25\": [\"Pang-Ni Landrum\", \"Mark J. Kunerth\", \"Adam Chase\"],\n",
    "    \"S04E15\": [\"Wil Calhoun\", \"Andrew Reich\", \"Ted Cohen\"],\n",
    "    \"S04E16\": [\"Shana Goldberg-Meehan\", \"Scott Silveri\", \"Alicia Sky Varinaitis\"],\n",
    "    \"S04E17\": [\"Richard Goodman\", \"Mark J. Kunerth\"],\n",
    "    \"S04E18\": [\"Jill Condon\", \"Amy Toomin\", \"Andrew Reich\", \"Ted Cohen\"],\n",
    "    \"S04E22\": [\"Michael Curtis\", \"Greg Malins\", \"Seth Kurland\"],\n",
    "    \"S05E11\": [\"Suzie Villandry\", \"Brian Boyle\"],\n",
    "    \"S05E13\": [\"Michael Curtis\", \"Seth Kurland\"],\n",
    "    \"S05E16\": [\"Gigi McCreery\", \"Perry Rein\", \"Alicia Sky Varinaitis\"],\n",
    "    \"S05E21\": [\"Greg Malins\", \"Scott Silveri\"],\n",
    "    \"S05E22\": [\"Wil Calhoun\", \"Shana Goldberg-Meehan\"],\n",
    "    \"S05E23\": [\"Andrew Reich\", \"Ted Cohen\"],\n",
    "    \"S05E24\": [\"Greg Malins\", \"Scott Silveri\"],\n",
    "    \"S06E11\": [\"Brian Boyle\", \"Zachary Rosenblatt\"],\n",
    "    \"S06E12\": [\"Andrew Reich\", \"Ted Cohen\", \"Shana Goldberg-Meehan\"],\n",
    "    \"S06E13\": [\"Seth Kurland\", \"Sherry Bilsing\", \"Ellen Plummer\"],\n",
    "    \"S06E15\": [\"Adam Chase\", \"Greg Malins\"],\n",
    "    \"S06E16\": [\"David Crane\", \"Marta Kauffman\"],\n",
    "    \"S06E17\": [\"Adam Chase\", \"Zachary Rosenblatt\"],\n",
    "    \"S06E19\": [\"Gigi McCreery\", \"Perry Rein\", \"Seth Kurland\"],\n",
    "    \"S06E21\": [\"Scott Silveri\", \"David J. Lagana\"],\n",
    "    \"S06E22\": [\"Brian Caldirola\", \"Sherry Bilsing\", \"Ellen Plummer\"],\n",
    "    \"S06E24\": [\"Shana Goldberg-Meehan\", \"Scott Silveri\"],\n",
    "    \"S06E25\": [\"Andrew Reich\", \"Ted Cohen\"],\n",
    "    \"S07E01\": [\"Marta Kauffman\", \"David Crane\", \"Wil Calhoun\"],\n",
    "    \"S07E05\": [\"Patty Lin\", \"Earl Davis\"],\n",
    "    \"S07E13\": [\"Sebastian Jones\", \"Brian Buckner\", \"Sherry Bilsing\", \"Ellen Plummer\"],\n",
    "    \"S07E14\": [\"Vanessa McCarthy\", \"Sherry Bilsing\", \"Ellen Plummer\"],\n",
    "    \"S07E15\": [\"Andrew Reich\", \"Ted Cohen\", \"Sherry Bilsing\", \"Ellen Plummer\"],\n",
    "    \"S07E16\": [\"Zachary Rosenblatt\", \"Sebastian Jones\", \"Brian Buckner\"],\n",
    "    \"S07E17\": [\"Sebastian Jones\", \"Brian Buckner\", \"Andrew Reich\", \"Ted Cohen\"],\n",
    "    \"S07E18\": [\"Brian Boyle\", \"Sherry Bilsing\", \"Ellen Plummer\"],\n",
    "    \"S07E22\": [\"Sebastian Jones\", \"Brian Buckner\", \"Greg Malins\"],\n",
    "    \"S07E23\": [\"Greg Malins\"],\n",
    "    \"S07E24\": [\"Marta Kauffman\", \"David Crane\"],\n",
    "    \"S08E10\": [\"Sebastian Jones\", \"Brian Buckner\", \"Robert Carlock\"],\n",
    "    \"S08E17\": [\"Steven Rosenhaus\", \"R. Lee Fleming, Jr.\"],\n",
    "    \"S08E18\": [\"Mark J. Kunerth\", \"Peter Tibbals\"],\n",
    "    \"S08E21\": [\"Sebastian Jones\", \"Brian Buckner\", \"Dana Klein Borkow\"],\n",
    "    \"S08E23\": [\"Scott Silveri\"],\n",
    "    \"S08E24\": [\"Marta Kauffman\", \"David Crane\"],\n",
    "    \"S09E08\": [\"Shana Goldberg-Meehan\"],\n",
    "    \"S09E09\": [\"Mark J. Kunerth\"],\n",
    "    \"S09E11\": [\"Peter Tibbals\", \"Judd Rubin\"],\n",
    "    \"S09E12\": [\"Sebastian Jones\", \"Brian Buckner\", \"Dana Klein Borkow\"],\n",
    "    \"S09E15\": [\"Peter Tibbals\"],\n",
    "    \"S09E16\": [\"Mark J. Kunerth\"],\n",
    "    \"S09E17\": [\"Sebastian Jones\", \"Brian Buckner\", \"Robert Carlock\"],\n",
    "    \"S09E18\": [\"Sebastian Jones\", \"Brian Buckner\", \"Sherry Bilsing\", \"Ellen Plummer\"],\n",
    "    \"S09E19\": [\"Mark J. Kunerth\", \"Dana Klein Borkow\"],\n",
    "    \"S09E20\": [\"Andrew Reich\", \"Ted Cohen\", \"Shana Goldberg-Meehan\"],\n",
    "    \"S09E21\": [\"Scott Silveri\", \"Robert Carlock\"],\n",
    "    \"S09E23\": [\"Scott Silveri\", \"Shana Goldberg-Meehan\"],\n",
    "    \"S09E24\": [\"Marta Kauffman\", \"David Crane\"],\n",
    "    \"S10E14\": [\"Robert Carlock\", \"Tracy Reilly\"]\n",
    "}\n",
    "\n",
    "# Function that looks up the episode number\n",
    "def missing_writers(name, number):\n",
    "    return missing_writers_dict.get(number, name)"
   ]
  },
  {
   "cell_type": "code",
   "execution_count": 27,
   "id": "9a757860",
   "metadata": {},
   "outputs": [],
   "source": [
    "# Dictionary mapping wrong names to correct names (misspelling and stage names)\n",
    "name_corrections = {\n",
    "    \"Jeffrey Astrof\": \"Jeff Astrof\",\n",
    "    \"Jeff Astroff\": \"Jeff Astrof\",\n",
    "    \"Marta Kaufmann\": \"Marta Kauffman\",\n",
    "    \"Ira Ungerlieder\": \"Ira Ungerleider\",\n",
    "    \"Shana Goldnerg-Meehan\": \"Shana Goldberg-Meehan\",\n",
    "    \"Any Toomin\": \"Amy Toomin\",\n",
    "    \"Sherry Bilsing-Graham\": \"Sherry Bilsing\",\n",
    "    \"Sherry Bilding-Graham\": \"Sherry Bilsing\",\n",
    "    \"Gigi McCreey\": \"Gigi McCreery\",\n",
    "    \"Gregory S. Malins\": \"Greg Malins\",\n",
    "    \"Zack Rosenblatt\": \"Zachary Rosenblatt\",\n",
    "    \"Dana Klein\": \"Dana Klein Borkow\",\n",
    "    \"Mark Kunerth\": \"Mark J. Kunerth\",\n",
    "    \"Seth Kurl\": \"Seth Kurland\",\n",
    "    \"Seth Kirkl\": \"Seth Kurland\",\n",
    "    \"rew Reich\": \"Andrew Reich\"\n",
    "}\n",
    "\n",
    "def name_correction(name, corrections):    \n",
    "    for index, n in enumerate(name):\n",
    "        if n in corrections:\n",
    "            name[index] = corrections[n]\n",
    "    return name"
   ]
  },
  {
   "cell_type": "code",
   "execution_count": 28,
   "id": "2a634c9b",
   "metadata": {},
   "outputs": [],
   "source": [
    "# clean stray punctuation and formatting\n",
    "df2 = df_script.copy()\n",
    "df2[\"writers\"] = df2[\"writers\"].apply(clean_writers)"
   ]
  },
  {
   "cell_type": "code",
   "execution_count": 29,
   "id": "413c7730",
   "metadata": {},
   "outputs": [
    {
     "name": "stdout",
     "output_type": "stream",
     "text": [
      "There are 81 episodes missing writers' names.\n"
     ]
    }
   ],
   "source": [
    "# fill in missing writers rows\n",
    "print(\"There are\", len(set(df2[df2[\"writers\"].isnull()][\"episode_number\"])), \"episodes missing writers' names.\")\n",
    "df2['writers'] = df2.apply(lambda row: missing_writers(row['writers'], row['episode_number']), axis=1)"
   ]
  },
  {
   "cell_type": "code",
   "execution_count": 30,
   "id": "8092abd7",
   "metadata": {},
   "outputs": [],
   "source": [
    "# correct writer name misspellings and stage names\n",
    "df2[\"writers\"] = df2[\"writers\"].apply(lambda x: name_correction(x, name_corrections))"
   ]
  },
  {
   "cell_type": "code",
   "execution_count": 31,
   "id": "b6500c48",
   "metadata": {},
   "outputs": [
    {
     "name": "stdout",
     "output_type": "stream",
     "text": [
      "['Marta Kauffman' 'David Crane' 'Jeff Astrof' 'Mike Sikowitz'\n",
      " 'Alexa Junge' 'Jeff Greenstein' 'Jeff Strauss' 'Adam Chase'\n",
      " 'Ira Ungerleider' 'Bill Lawrence' 'Doty Abrams' 'Chris Brown'\n",
      " 'Michael Curtis' 'Greg Malins' 'Betsy Borns' 'Michael Borkow'\n",
      " 'Sebastian Jones' 'Brian Buckner' 'Brown Mandell' 'Wil Calhoun'\n",
      " 'Scott Silveri' 'Shana Goldberg-Meehan' 'Seth Kurland' 'Andrew Reich'\n",
      " 'Ted Cohen' 'Pang-Ni Landrum' 'Mark J. Kunerth' 'Jill Condon'\n",
      " 'Amy Toomin' 'Alicia Sky Varinaitis' 'Richard Goodman' 'Perry Rein'\n",
      " 'Gigi McCreery' 'Suzie Villandry' 'Brian Boyle' 'Sherry Bilsing'\n",
      " 'Ellen Plummer' 'Zachary Rosenblatt' 'David J. Lagana' 'Brian Caldirola'\n",
      " 'Patty Lin' 'Earl Davis' 'Vanessa McCarthy' 'Dana Klein Borkow'\n",
      " 'R. Lee Fleming, Jr.' 'Robert Carlock' 'Steven Rosenhaus' 'Peter Tibbals'\n",
      " 'Judd Rubin' 'Tracy Reilly']\n",
      "\n",
      "There were 50 writers for the FRIENDS series. IMDB states that there were 50 writers in total.\n"
     ]
    }
   ],
   "source": [
    "## For viewing all writers\n",
    "# Flatten the lists in the column into rows\n",
    "all_writers = df2[\"writers\"].explode()\n",
    "\n",
    "unique_writers = all_writers.dropna().unique()\n",
    "\n",
    "print(unique_writers)\n",
    "print(\"\\nThere were\", len(unique_writers), \"writers for the FRIENDS series. IMDB states that there were 50 writers in total.\")"
   ]
  },
  {
   "cell_type": "code",
   "execution_count": 32,
   "id": "83cc63b5",
   "metadata": {},
   "outputs": [],
   "source": [
    "df_script[\"writers\"] = df2[\"writers\"].copy()"
   ]
  },
  {
   "cell_type": "markdown",
   "id": "334b884c",
   "metadata": {},
   "source": [
    "<div class=\"alert alert-block alert-info\">\n",
    "    This code segment created lists of each of the writers per episode. <code>.explode()</code> must be used to view unique         writers or to divide all the lists. In total, there must be 50 unique writers to show that this code works correctly.\n",
    "</div>"
   ]
  },
  {
   "cell_type": "markdown",
   "id": "e32ff029",
   "metadata": {},
   "source": [
    "### Interlude: get rid of voiceover lines, writer introductions, and episode sizes."
   ]
  },
  {
   "cell_type": "markdown",
   "id": "d597f266",
   "metadata": {},
   "source": [
    "Remove voiceover rows and rows that introduce the backstage crew (speaker is part 1 or 2 written by, dialogue shows names). Also remove rows that show the size of an episode in bytes."
   ]
  },
  {
   "cell_type": "code",
   "execution_count": 33,
   "id": "e26d65eb",
   "metadata": {},
   "outputs": [],
   "source": [
    "# remove voiceovers\n",
    "df_script = df_script[~df_script[\"dialogue_clean\"].str.contains(\"Previously on Friends\", na=False)].copy()"
   ]
  },
  {
   "cell_type": "code",
   "execution_count": 34,
   "id": "5ed72c93",
   "metadata": {},
   "outputs": [],
   "source": [
    "df_script = df_script[~df_script[\"stage_direction_only\"].str.contains(\"bytes\", na=False)].copy()"
   ]
  },
  {
   "cell_type": "code",
   "execution_count": 35,
   "id": "4dec2f2e",
   "metadata": {},
   "outputs": [],
   "source": [
    "# make everything upper case\n",
    "df_script[\"speaker\"] = df_script[\"speaker\"].str.upper()\n",
    "\n",
    "# remove everything with \"by\" since it's not a speaking turn\n",
    "df_script = df_script[~df_script[\"speaker\"].str.contains(\" BY\", na=False)].copy()"
   ]
  },
  {
   "cell_type": "code",
   "execution_count": 36,
   "id": "3176f033",
   "metadata": {},
   "outputs": [
    {
     "data": {
      "text/plain": [
       "(68665, 13)"
      ]
     },
     "execution_count": 36,
     "metadata": {},
     "output_type": "execute_result"
    }
   ],
   "source": [
    "df_script.shape"
   ]
  },
  {
   "cell_type": "markdown",
   "id": "b92db66a",
   "metadata": {},
   "source": [
    "### \"type\"\n",
    "\"content\" rows have been dropped. We could take a look at the other two aside from \"dialogue\"."
   ]
  },
  {
   "cell_type": "code",
   "execution_count": 37,
   "id": "0f65b052",
   "metadata": {},
   "outputs": [
    {
     "data": {
      "image/png": "[encoded data removed]",
      "text/plain": [
       "<Figure size 500x200 with 1 Axes>"
      ]
     },
     "metadata": {},
     "output_type": "display_data"
    }
   ],
   "source": [
    "# types of lines without content\n",
    "counts = df_script[\"type\"].value_counts().head(20)\n",
    "\n",
    "plt.figure(figsize=(5,2))\n",
    "plt.bar(counts.index, counts.values)\n",
    "plt.xticks(rotation=45);"
   ]
  },
  {
   "cell_type": "code",
   "execution_count": 38,
   "id": "7bc741f7",
   "metadata": {},
   "outputs": [
    {
     "data": {
      "text/plain": [
       "0      Scene: Central Perk, Chandler, Joey, Phoebe, a...\n",
       "9                                             Time Lapse\n",
       "20                         Time Lapse, Ross has entered.\n",
       "74      Time Lapse, Rachel is breating into a paper bag.\n",
       "122     Scene: The Subway, Phoebe is singing for change.\n",
       "124    Scene: Ross's Apartment, the guys are there as...\n",
       "144     Scene: A Restaurant, Monica and Paul are eating.\n",
       "155    Scene: Ross's Apartment; Ross is pacing while ...\n",
       "179    Scene: Monica's Apartment, Rachel is watching ...\n",
       "182    Scene: Ross's Apartment, they're all sitting a...\n",
       "Name: scene_note_only, dtype: object"
      ]
     },
     "execution_count": 38,
     "metadata": {},
     "output_type": "execute_result"
    }
   ],
   "source": [
    "df_script[df_script[\"type\"] == \"scene_note\"][\"scene_note_only\"].head(10)"
   ]
  },
  {
   "cell_type": "code",
   "execution_count": 39,
   "id": "2a555e9b",
   "metadata": {},
   "outputs": [
    {
     "data": {
      "text/plain": [
       "5                               They all stare, bemused.\n",
       "43                            Ross gestures his consent.\n",
       "46     Rachel enters in a wet wedding dress and start...\n",
       "54     They go to hug but Ross's umbrella opens.  He ...\n",
       "63     The scene on TV has changed to show two women,...\n",
       "68     She is pushed down the stairs and everyone che...\n",
       "83          The door buzzer sounds and Chandler gets it.\n",
       "100           There's a knock on the door and it's Paul.\n",
       "108                               Monica goes to change.\n",
       "126    Joey and Chandler are finishing assembling the...\n",
       "Name: stage_direction_only, dtype: object"
      ]
     },
     "execution_count": 39,
     "metadata": {},
     "output_type": "execute_result"
    }
   ],
   "source": [
    "df_script[df_script[\"type\"] == \"stage_direction\"][\"stage_direction_only\"].head(10)"
   ]
  },
  {
   "cell_type": "markdown",
   "id": "570f7421",
   "metadata": {},
   "source": [
    "<div class=\"alert alert-block alert-info\">\n",
    "    Keeping or deleting these rows/columns still needs to be discussed. Research is needed to look into how valuable they would     be for our NLP approaches.\n",
    "</div>"
   ]
  },
  {
   "cell_type": "markdown",
   "id": "11c3d7d0",
   "metadata": {},
   "source": [
    "### \"speaker\"\n",
    "\n",
    "Some \"speaker\" values come with stage directions (AMY COMING OUT OF THE BATHROOM; JOEY (TO ROSS)) or include multiple speakers (PHOEBE, ROSS, CHANDLER, AND JOEY). Some are also unnamed characters (AIR STEWARDESS, PASSENGER #2). Some are nicknames (RACH for RACHEL).\n",
    "\n",
    "The first needs to move to `stage_direction_inline`. The second and third can be left as is. The fourth will manually be changed."
   ]
  },
  {
   "cell_type": "code",
   "execution_count": 40,
   "id": "9b59af4d",
   "metadata": {},
   "outputs": [],
   "source": [
    "# a print unique list to see what problems need to be dealt with via regex\n",
    "# print(df_script[\"speaker\"].dropna().unique())"
   ]
  },
  {
   "cell_type": "markdown",
   "id": "aa446e1f",
   "metadata": {},
   "source": [
    "First we remove some mislabelled rows. Then we start preprocessing and correcting the `speaker` names."
   ]
  },
  {
   "cell_type": "code",
   "execution_count": 41,
   "id": "3593b8c6",
   "metadata": {},
   "outputs": [],
   "source": [
    "# fix random speaker = SCENE line\n",
    "mask = df_script[\"speaker\"] == \"CREDITS [SCENE\"\n",
    "temp_cols = [\"speaker\", \"scene_note_only\", \"type\", \"dialogue_raw\", \"dialogue_clean\"]\n",
    "\n",
    "df_script.loc[mask, temp_cols] = [\n",
    "    np.nan,\n",
    "    \"Scene: Central Perk, Russ enters, Chandler and Phoebe are sitting on the couch.\",\n",
    "    \"scene_note\",\n",
    "    np.nan,\n",
    "    np.nan\n",
    "]"
   ]
  },
  {
   "cell_type": "code",
   "execution_count": 42,
   "id": "c333e186",
   "metadata": {},
   "outputs": [],
   "source": [
    "# fix random speaker = CUT TO line\n",
    "mask2 = df_script[\"speaker\"] == \"CUT TO\"\n",
    "\n",
    "df_script.loc[mask2, temp_cols] = [\n",
    "    np.nan,\n",
    "    \"Scene: Monica and Chandler's apartment.\",\n",
    "    \"scene_note\",\n",
    "    np.nan,\n",
    "    np.nan\n",
    "]"
   ]
  },
  {
   "cell_type": "code",
   "execution_count": 43,
   "id": "75a939f6",
   "metadata": {},
   "outputs": [],
   "source": [
    "# drop wrong row with writer's note\n",
    "df_script = df_script[~(df_script[\"speaker\"] == \"NOTE\")].copy()"
   ]
  },
  {
   "cell_type": "code",
   "execution_count": 44,
   "id": "753cf647",
   "metadata": {},
   "outputs": [],
   "source": [
    "df3 = df_script.copy()\n",
    "pattern = re.compile(r\"^(.*?)\\s*(?:[\\(\\[](.*?)[\\)\\]])?$\")\n",
    "\n",
    "# Extract name and extra info\n",
    "df3[[\"speaker\", 'stage_direction_inline']] = df3[\"speaker\"].str.extract(pattern)"
   ]
  },
  {
   "cell_type": "code",
   "execution_count": 45,
   "id": "26a4582e",
   "metadata": {},
   "outputs": [],
   "source": [
    "# fix few random speakers with actions\n",
    "subset_lines = [\n",
    "    'JOEY NODS',\n",
    "    'RACHEL TO EMMA',\n",
    "    'WOMAN AT DOOR',\n",
    "    'ROSS AND RACHEL WHILE LOOKING AT EACH OTHER SURPRISED AND SHOCKED',\n",
    "    'WOMAN AT DOOR IN A SING SONG VOICE',\n",
    "    'ROSS WITH A LOOK OF WONDERING HOW LONG THIS IS GOING TO GO ON ON HIS FACE',\n",
    "    \"ROSS STARTS TALKING OVER HER 'DO YOU REMEMBER' LINE\",\n",
    "    'AMY WITH STRAIGHT HAIR',\n",
    "    'AMY STORMS OUT',\n",
    "    'RACHEL OPENS THEIR DOOR',\n",
    "    'JOEY LAUGHS',\n",
    "    'JOEY LOOKS REJECTED',\n",
    "    'ROSS TO MONICA',\n",
    "    'MONICA TO ROSS',\n",
    "    'MONICA TO EMMA',\n",
    "    'MONICA TO AMY',\n",
    "    'AMY WITH CONFUSED LOOK ON FACE',\n",
    "    'PHOEBE SHAKES HER HAND AND SAYS',\n",
    "    'PHOEBE LOOKS DOWN',\n",
    "    'AMY COMING OUT OF THE BATHROOM',\n",
    "    \"ROSS FIRST HAS A LOOK OF 'HUH' THEN CHANGES IT TO SARCASTIC HAPPY\",\n",
    "    'AMY TURNS AROUND TO PHOEBE',\n",
    "    'AMY TURNS TO ROSS AND RACHEL',\n",
    "    'ROSS STARTS PLAYING WITH A PLATE',\n",
    "    'MONICA ABOUT TO HAVE A HEART ATTACK',\n",
    "    'JOEY RAISES HIS HAND',\n",
    "    'ROSS LOOKS DOWN',\n",
    "    'PHOEBE WHILE CUTTING A SWEET POTATOE IN THE AIR',\n",
    "    'JOEY GROANS AND GETS OFF THE PHONE',\n",
    "    'JOEY ALL NERVOUS AND LOOKING DOWN AND FIDDLING WITH HIS EAR',\n",
    "    'AMY WALKS OVER TO THE COUCH AND SITS DOWN NEXT TO RACHEL',\n",
    "    'RACHEL TURNS TO ROSS',\n",
    "    'ROSS WALKS OVER',\n",
    "    'MONICA SCREAMING AT ROSS',\n",
    "    \"RACHEL STARTS MESSING UP AMY'S HAIR\",\n",
    "    'MONICA STARTS CRYING',\n",
    "    'AMY STARTING TO CRY'\n",
    "]\n",
    "\n",
    "pattern2 = re.compile(r\"^([A-Z]+(?: (?:AND|AT) [A-Z]+)*)\\s*(.*)$\")\n",
    "mask3 = df3['speaker'].isin(subset_lines)\n",
    "\n",
    "# Apply regex only on the subset of lines\n",
    "df3.loc[mask3, ['speaker', 'stage_direction_inline']] = df3.loc[mask3, 'speaker'].str.extract(pattern2)"
   ]
  },
  {
   "cell_type": "code",
   "execution_count": 46,
   "id": "92ccda27",
   "metadata": {},
   "outputs": [],
   "source": [
    "speaker_corrections = {\n",
    "    \"CHAN\": \"CHANDLER\",\n",
    "    \"RACH\": \"RACHEL\",\n",
    "    \"RACEL\": \"RACHEL\",\n",
    "    \"RAHCEL\": \"RACHEL\",\n",
    "    \"RAHCEL\": \"RACHEL\",\n",
    "    \"PHOE\": \"PHOEBE\",\n",
    "    \"MNCA\": \"MONICA\",\n",
    "    \"MONA\": \"MONICA\",\n",
    "    \"MICH\": \"MICHAEL\",\n",
    "    \"PHOE/MNCA\": \"PHOEBE, MONICA\",\n",
    "    \"RTST\": \"MR. RASTATTER\",\n",
    "    \"JOEY/CHAN\": \"JOEY, CHANDLER\",\n",
    "    \"CHAN, JOEY, ROSS\": \"CHANDLER, JOEY, ROSS\",\n",
    "    \"GANG\": \"ALL\",\n",
    "    \"FBOB\": \"FUN BOBBY\",\n",
    "    \"ESTL\": \"ESTELLE\",\n",
    "    \"DR. REMORE\": \"DR. RAMORAY\",\n",
    "    \"DR. DRAKE REMORAY\": \"DR. RAMORAY\",\n",
    "    \"DR. DRAKE RAMORAY\": \"DR. RAMORAY\",\n",
    "    \"DR HORTON\": \"DR. HORTON\",\n",
    "    \"AMGER\": \"AMBER\",\n",
    "    \"EVERYONE\": \"ALL\",\n",
    "    \"DR GREEN\": \"DR. GREEN\",\n",
    "    \"SHERMAN WHITFIELD\": \"WHITFIELD\",\n",
    "    \"MATRESS KING\": \"MATTRESS KING\",\n",
    "    \"BILLY CRYSTAL\": \"BILLY\",\n",
    "    \"ELIZABETH HORNSWOGGLE\": \"ELIZABETH\",\n",
    "    \"DR. TIMOTHY BURKE\": \"TIM\",\n",
    "    \"EVERYONE ALMOST SIMULTANEOUSLY EXCEPT ROSS\": \"ALL\",\n",
    "    \"SANDY/GRUMPUS\": \"SANDY\",\n",
    "    \"JOEY/WIGGLEMUNCH\": \"JOEY\",\n",
    "    \"EVERYONE BUT MONICA\": \"ALL\",\n",
    "    \"EVERYONE THERE SAYS\": \"ALL\",\n",
    "    \"EVERYBODY\": \"ALL\",\n",
    "    \"RACHEL/ACTRESS\": \"RACHEL\",\n",
    "    \"RACHEL/ROSS\": \"RACHEL, ROSS\",\n",
    "    \"PROFESSOR SHERMAN\": \"PROF. SHERMAN\",\n",
    "    \"AMY AND RACHEL AT SAME TIME\": \"RACHEL, AMY\",\n",
    "    \"JOEY'S VOICE, BUT SHE SEES ROSS\": \"JOEY, ROSS\",\n",
    "    \"JOEY'S VOICE/ROSS\": \"JOEY, ROSS\",\n",
    "    \"AGENCY GUY\": \"ADOPTION AGENCY GUY\",\n",
    "    \"DONNY OSMOND\": \"DONNY\",\n",
    "    \"PHOEBE SR\": \"PHOEBE SR.\",\n",
    "    \"MAITRE D�\": \"MAITRE D'\",\n",
    "    \"MATIRE'D\": \"MAITRE D'\",\n",
    "    \"JOEY/DRAKE\": \"JOEY\",\n",
    "    \"ACTRESS/OLIVIA\": \"OLIVIA\",\n",
    "    \"GUYS\": \"THE GUYS\"\n",
    "}\n",
    "\n",
    "# replace/map\n",
    "df3[\"speaker\"] = df3[\"speaker\"].replace(speaker_corrections)\n",
    "\n",
    "# change \" AND \" or \" & \" to \", \"\n",
    "df3[\"speaker\"] = df3[\"speaker\"].str.replace(r\"\\W\\s+AND\\s+| \\& |\\/\", \", \", regex=True)\n",
    "df3[\"speaker\"] = df3[\"speaker\"].str.replace(r\"\\s+AND\\s+\", \", \", regex=True)"
   ]
  },
  {
   "cell_type": "code",
   "execution_count": 47,
   "id": "0f92e18f",
   "metadata": {},
   "outputs": [
    {
     "name": "stdout",
     "output_type": "stream",
     "text": [
      "There are at most 777  speakers in the series, including different combinations of speakers.\n"
     ]
    }
   ],
   "source": [
    "print(\"There are at most\", len(df3[\"speaker\"].dropna().unique()),\" speakers in the series, including different combinations of speakers.\")"
   ]
  },
  {
   "cell_type": "code",
   "execution_count": 48,
   "id": "73fdde54",
   "metadata": {},
   "outputs": [],
   "source": [
    "df_script[\"speaker\"] = df3[\"speaker\"].copy()"
   ]
  },
  {
   "cell_type": "code",
   "execution_count": 49,
   "id": "dbac8359",
   "metadata": {},
   "outputs": [
    {
     "data": {
      "image/png": "[encoded data removed]",
      "text/plain": [
       "<Figure size 1500x600 with 1 Axes>"
      ]
     },
     "metadata": {},
     "output_type": "display_data"
    }
   ],
   "source": [
    "# Count each speaker's speaking turn (not related to number of words or screen time)\n",
    "counts = df_script[\"speaker\"].value_counts().head(30)\n",
    "\n",
    "plt.figure(figsize=(15,6))\n",
    "plt.title(\"Number of Speaking Turns per Character\")\n",
    "plt.xlabel(\"Character Names\")\n",
    "plt.ylabel(\"Frequency\")\n",
    "plt.bar(counts.index, counts.values)\n",
    "plt.xticks(rotation=45);"
   ]
  },
  {
   "cell_type": "code",
   "execution_count": 50,
   "id": "431d9811",
   "metadata": {},
   "outputs": [
    {
     "data": {
      "image/png": "[encoded data removed]",
      "text/plain": [
       "<Figure size 1500x600 with 1 Axes>"
      ]
     },
     "metadata": {},
     "output_type": "display_data"
    }
   ],
   "source": [
    "# Count each speaker's speaking turn (without the main cast and \"ALL\")\n",
    "counts = df_script[\"speaker\"].value_counts()[7:37]\n",
    "\n",
    "plt.figure(figsize=(15,6))\n",
    "plt.title(\"Number of Speaking Turns per Character Excluding the Main Cast\")\n",
    "plt.xlabel(\"Character Names\")\n",
    "plt.ylabel(\"Frequency\")\n",
    "plt.bar(counts.index, counts.values)\n",
    "plt.xticks(rotation=45);"
   ]
  },
  {
   "cell_type": "markdown",
   "id": "0810af58",
   "metadata": {},
   "source": [
    "<div class=\"alert alert-block alert-info\">\n",
    "    This does not preprocess \"BOTH\", \"ALL\", or multiple names divided by commas in different orders. \n",
    "    To solve \"BOTH\" and \"ALL\" would require manually analyzing the script.\n",
    "    <br><br>\n",
    "    A possible solution for this is to split each row where multiple characters speak and duplicate the text. \n",
    "    We could then also add a <code>scene_note_inline</code> that the line is said in unison. <b>Ultimately, we will ignore this issue due to time and possibly list it as a limitation.</b>\n",
    "</div>"
   ]
  },
  {
   "cell_type": "markdown",
   "id": "ba7c2d91",
   "metadata": {},
   "source": [
    "### \"dialogue_raw\", \"dialogue_clean\", \"stage_direction_inline\", \"scene_note_inline\", \"stage_direction_only\"\n",
    "\n",
    "Clean unidentifiable characters: �. They seem to be apostrophes. Also look at missingness."
   ]
  },
  {
   "cell_type": "code",
   "execution_count": 51,
   "id": "bfb8bdbc",
   "metadata": {},
   "outputs": [],
   "source": [
    "df_script[\"dialogue_raw\"] = df_script[\"dialogue_raw\"].str.replace(r\"�\", \"\\'\", regex=True)\n",
    "df_script[\"dialogue_clean\"] = df_script[\"dialogue_clean\"].str.replace(r\"�\", \"\\'\", regex=True)\n",
    "df_script[\"scene_note_inline\"] = df_script[\"scene_note_inline\"].str.replace(r\"�\", \"\\'\", regex=True)\n",
    "df_script[\"stage_direction_inline\"] = df_script[\"stage_direction_inline\"].str.replace(r\"�\", \"\\'\", regex=True)"
   ]
  },
  {
   "cell_type": "code",
   "execution_count": 52,
   "id": "d82e0d66",
   "metadata": {},
   "outputs": [
    {
     "name": "stdout",
     "output_type": "stream",
     "text": [
      "Missingness percentage for stage_direction_inline: 0.8079197250378656\n"
     ]
    }
   ],
   "source": [
    "# stage_direction_inline for emotions\n",
    "print(\"Missingness percentage for stage_direction_inline:\", \n",
    "      df_script[\"stage_direction_inline\"].isnull().sum(axis = 0) / df_script.shape[0])"
   ]
  },
  {
   "cell_type": "code",
   "execution_count": 53,
   "id": "48d2e5f4",
   "metadata": {},
   "outputs": [
    {
     "name": "stdout",
     "output_type": "stream",
     "text": [
      "Missingness percentage for scene_note_inline: 0.9915676336945124\n"
     ]
    }
   ],
   "source": [
    "# scene_note_inline for ...something\n",
    "print(\"Missingness percentage for scene_note_inline:\", \n",
    "      df_script[\"scene_note_inline\"].isnull().sum(axis = 0) / df_script.shape[0])"
   ]
  },
  {
   "cell_type": "code",
   "execution_count": 54,
   "id": "6c4e56a6",
   "metadata": {},
   "outputs": [
    {
     "name": "stdout",
     "output_type": "stream",
     "text": [
      "Missingness percentage for stage_direction_only: 0.9519398811604334\n"
     ]
    }
   ],
   "source": [
    "# stage_direction_only for ...something again\n",
    "print(\"Missingness percentage for stage_direction_only:\", \n",
    "      df_script[\"stage_direction_only\"].isnull().sum(axis = 0) / df_script.shape[0])"
   ]
  },
  {
   "cell_type": "markdown",
   "id": "bd202274",
   "metadata": {},
   "source": [
    "### \"scene_note_only\"\n",
    "Can be used as an additional attribute to see if the audience prefers certain **locations**. Note that some `stage_direction` columns seem to also have scene locations, but these are too difficult to extract."
   ]
  },
  {
   "cell_type": "code",
   "execution_count": 55,
   "id": "2df793fb",
   "metadata": {},
   "outputs": [
    {
     "name": "stdout",
     "output_type": "stream",
     "text": [
      "Missingness percentage: 0.9412210182919725 \n",
      "\n",
      "['Scene: Central Perk, Chandler, Joey, Phoebe, and Monica are there.'\n",
      " 'Time Lapse' 'Time Lapse, Ross has entered.'\n",
      " 'Time Lapse, Rachel is breating into a paper bag.'\n",
      " 'Scene: The Subway, Phoebe is singing for change.'\n",
      " \"Scene: Ross's Apartment, the guys are there assembling furniture.\"\n",
      " 'Scene: A Restaurant, Monica and Paul are eating.'\n",
      " \"Scene: Ross's Apartment; Ross is pacing while Joey and Chandler are working on some more furniture.\"\n",
      " \"Scene: Monica's Apartment, Rachel is watching Joanne Loves Chaci.\"\n",
      " \"Scene: Ross's Apartment, they're all sitting around and talking.\"]\n"
     ]
    }
   ],
   "source": [
    "print(\"Missingness percentage:\", df_script[\"scene_note_only\"].isnull().sum(axis = 0) / df_script.shape[0], \"\\n\")\n",
    "print(df_script[\"scene_note_only\"].dropna().unique()[:10])"
   ]
  },
  {
   "cell_type": "code",
   "execution_count": 56,
   "id": "37371377",
   "metadata": {},
   "outputs": [],
   "source": [
    "# extract locations using regex\n",
    "pattern4 = r\"Scene[:,]? ((?:Mr\\.|Mrs\\.|Dr\\.|Ms\\. )?[^,.;]+)[.,;]?\""
   ]
  },
  {
   "cell_type": "code",
   "execution_count": 57,
   "id": "277e540c",
   "metadata": {},
   "outputs": [
    {
     "data": {
      "text/plain": [
       "array(['Central Perk', nan, 'The Subway', \"Ross's Apartment\",\n",
       "       'A Restaurant', \"Monica's Apartment\", 'Iridium',\n",
       "       \"Monica and Rachel's\", 'Museum of Prehistoric History',\n",
       "       'Central Park', \"Carol's OB/GYN\", \"Barry's office\",\n",
       "       \"Monica and Rachel's apartment\", \"Chandler and Joey's\", 'A street',\n",
       "       \"Chandler's office\", 'A Street', 'Cental Perk',\n",
       "       'Madison Square Garden', 'An Emergency Room'], dtype=object)"
      ]
     },
     "execution_count": 57,
     "metadata": {},
     "output_type": "execute_result"
    }
   ],
   "source": [
    "# initial print to find any problems with the regex and fix them\n",
    "# 595 different unique locations before cleaning\n",
    "df_script[\"scene_note_only\"].str.extract(pattern4)[0].unique()[:20]"
   ]
  },
  {
   "cell_type": "code",
   "execution_count": 58,
   "id": "86e535d4",
   "metadata": {},
   "outputs": [
    {
     "data": {
      "text/plain": [
       "array(['Scene: Ms. Geller, Rachel and Ross storm into the apartment.'],\n",
       "      dtype=object)"
      ]
     },
     "execution_count": 58,
     "metadata": {},
     "output_type": "execute_result"
    }
   ],
   "source": [
    "# A possible ambiguous entry\n",
    "# Ms. Geller -- multiple people listed, divided by commas --> \"Scene: Ms. Geller, Rachel and Ross storm into the apartment.\"\n",
    "df_script[df_script[\"scene_note_only\"].str.contains(\"Ms. Geller\", na=False)][\"scene_note_only\"].values"
   ]
  },
  {
   "cell_type": "code",
   "execution_count": 59,
   "id": "f4c8755b",
   "metadata": {},
   "outputs": [],
   "source": [
    "# removes where scene is just \"continues\" or times - make NaN\n",
    "df_script.loc[df_script[\"scene_note_only\"].str.contains(\"Scene: continues, Joey finished everything.\", na=False), \"scene_note_only\"] = [\n",
    "    np.nan,\n",
    "]\n",
    "\n",
    "df_script.loc[df_script[\"scene_note_only\"] == \"continued from earlier\", \"scene_note_only\"] = np.nan\n",
    "df_script.loc[df_script[\"scene_note_only\"] == \"later\", \"scene_note_only\"] = np.nan\n",
    "df_script.loc[df_script[\"scene_note_only\"] == \"After dinner\", \"scene_note_only\"] = np.nan"
   ]
  },
  {
   "cell_type": "markdown",
   "id": "946f02d9",
   "metadata": {},
   "source": [
    "Some manual correction is needed first for episode that do not have any standard formatting."
   ]
  },
  {
   "cell_type": "code",
   "execution_count": 60,
   "id": "6b66e669",
   "metadata": {},
   "outputs": [],
   "source": [
    "# have locations but aren't in the usual format: S02E11\n",
    "# df_script[(df_script[\"episode_number\"]== \"S02E11\") & ~df_script[\"scene_note_only\"].isna()]"
   ]
  },
  {
   "cell_type": "code",
   "execution_count": 61,
   "id": "bf27f6bf",
   "metadata": {},
   "outputs": [],
   "source": [
    "scene_corrections = {\n",
    "    \"at Ross's. Carol and Susan are picking Ben up\" : \"Scene: Ross's Apartment. Carol and Susan are picking Ben up.\",\n",
    "    \"at Rachel and Monica's\": \"Scene: Rachel and Monica's apartment.\",\n",
    "    \"Monica and Rachel's\": \"Scene: Monica and Rachel's apartment.\",\n",
    "    \"Central Perk\": \"Scene: Central Perk.\",\n",
    "    \"at Monica and Rachel's\": \"Scene: Monica and Rachel's apartment.\",\n",
    "    \"at the wedding\": \"Scene: A wedding.\",\n",
    "}\n",
    "\n",
    "df_script[\"scene_note_only\"] = df_script[\"scene_note_only\"].replace(scene_corrections)"
   ]
  },
  {
   "cell_type": "markdown",
   "id": "8a974ec2",
   "metadata": {},
   "source": [
    "Now we check the number of scene changes per episode."
   ]
  },
  {
   "cell_type": "code",
   "execution_count": 62,
   "id": "b67ac96a",
   "metadata": {},
   "outputs": [],
   "source": [
    "# create new column in df copy with only the extracted strings\n",
    "df_test = df_script.copy()\n",
    "df_test[\"scene_note_extracted\"] = df_test[\"scene_note_only\"].str.extract(pattern4)[0]"
   ]
  },
  {
   "cell_type": "code",
   "execution_count": 63,
   "id": "94fc8ca3",
   "metadata": {},
   "outputs": [
    {
     "data": {
      "text/plain": [
       "episode_number\n",
       "S01E01    12\n",
       "S01E02    11\n",
       "S01E03    15\n",
       "S01E04    16\n",
       "S01E05    16\n",
       "S01E06     9\n",
       "S01E07    21\n",
       "S01E08    13\n",
       "S01E09    12\n",
       "S01E10     8\n",
       "Name: scene_note_extracted, dtype: int64"
      ]
     },
     "execution_count": 63,
     "metadata": {},
     "output_type": "execute_result"
    }
   ],
   "source": [
    "# check number of scene changes per episode\n",
    "scene_cuts = df_test.groupby(\"episode_number\")[\"scene_note_extracted\"].count()\n",
    "scene_cuts[:10]"
   ]
  },
  {
   "cell_type": "code",
   "execution_count": 64,
   "id": "103ddaf6",
   "metadata": {},
   "outputs": [
    {
     "data": {
      "image/png": "[encoded data removed]",
      "text/plain": [
       "<Figure size 1500x600 with 1 Axes>"
      ]
     },
     "metadata": {},
     "output_type": "display_data"
    }
   ],
   "source": [
    "scene_cuts.plot(kind=\"bar\", figsize=(15,6))\n",
    "\n",
    "plt.xticks(rotation=90, size=4)\n",
    "plt.xlabel(\"Episode number\")\n",
    "plt.ylabel(\"Number of scene changes\")\n",
    "plt.title(\"Number of Scene Changes per Episode\");"
   ]
  },
  {
   "cell_type": "markdown",
   "id": "7dfb38a9",
   "metadata": {},
   "source": [
    "`S02E03` seems to have nothing, even upon checking."
   ]
  },
  {
   "cell_type": "code",
   "execution_count": 65,
   "id": "579d91a7",
   "metadata": {
    "scrolled": true
   },
   "outputs": [
    {
     "data": {
      "text/plain": [
       "episode_number\n",
       "S02E05    1\n",
       "S02E06    1\n",
       "Name: scene_note_extracted, dtype: int64"
      ]
     },
     "execution_count": 65,
     "metadata": {},
     "output_type": "execute_result"
    }
   ],
   "source": [
    "scene_cuts_adj = scene_cuts.drop(\"S02E03\") - scene_cuts.loc[\"S02E03\"]\n",
    "scene_cuts_adj[scene_cuts_adj == scene_cuts_adj.min()]"
   ]
  },
  {
   "cell_type": "code",
   "execution_count": 66,
   "id": "b3dbdb34",
   "metadata": {},
   "outputs": [
    {
     "data": {
      "text/plain": [
       "episode_number\n",
       "S04E21    29\n",
       "Name: scene_note_extracted, dtype: int64"
      ]
     },
     "execution_count": 66,
     "metadata": {},
     "output_type": "execute_result"
    }
   ],
   "source": [
    "scene_cuts[scene_cuts.values==scene_cuts.max()] # The One with the Invitation, a clip show"
   ]
  },
  {
   "cell_type": "code",
   "execution_count": 67,
   "id": "0e5b5423",
   "metadata": {},
   "outputs": [
    {
     "data": {
      "text/html": [
       "<div>\n",
       "<style scoped>\n",
       "    .dataframe tbody tr th:only-of-type {\n",
       "        vertical-align: middle;\n",
       "    }\n",
       "\n",
       "    .dataframe tbody tr th {\n",
       "        vertical-align: top;\n",
       "    }\n",
       "\n",
       "    .dataframe thead th {\n",
       "        text-align: right;\n",
       "    }\n",
       "</style>\n",
       "<table border=\"1\" class=\"dataframe\">\n",
       "  <thead>\n",
       "    <tr style=\"text-align: right;\">\n",
       "      <th></th>\n",
       "      <th>episode_number</th>\n",
       "      <th>title</th>\n",
       "      <th>writers</th>\n",
       "      <th>type</th>\n",
       "      <th>speaker</th>\n",
       "      <th>dialogue_raw</th>\n",
       "      <th>dialogue_clean</th>\n",
       "      <th>stage_direction_inline</th>\n",
       "      <th>scene_note_inline</th>\n",
       "      <th>stage_direction_only</th>\n",
       "      <th>scene_note_only</th>\n",
       "      <th>season</th>\n",
       "      <th>episode</th>\n",
       "    </tr>\n",
       "  </thead>\n",
       "  <tbody>\n",
       "    <tr>\n",
       "      <th>7998</th>\n",
       "      <td>S02E05</td>\n",
       "      <td>The One with Five Steaks and an Eggplant</td>\n",
       "      <td>[Chris Brown]</td>\n",
       "      <td>scene_note</td>\n",
       "      <td>NaN</td>\n",
       "      <td>NaN</td>\n",
       "      <td>NaN</td>\n",
       "      <td>NaN</td>\n",
       "      <td>NaN</td>\n",
       "      <td>NaN</td>\n",
       "      <td>Scene: At Chandler and Joey's. Ross and Chandl...</td>\n",
       "      <td>2</td>\n",
       "      <td>5</td>\n",
       "    </tr>\n",
       "    <tr>\n",
       "      <th>8294</th>\n",
       "      <td>S02E06</td>\n",
       "      <td>The One with the Baby on the Bus</td>\n",
       "      <td>[Betsy Borns]</td>\n",
       "      <td>scene_note</td>\n",
       "      <td>NaN</td>\n",
       "      <td>NaN</td>\n",
       "      <td>NaN</td>\n",
       "      <td>NaN</td>\n",
       "      <td>NaN</td>\n",
       "      <td>NaN</td>\n",
       "      <td>Scene: At Monica and Rachel's.</td>\n",
       "      <td>2</td>\n",
       "      <td>6</td>\n",
       "    </tr>\n",
       "  </tbody>\n",
       "</table>\n",
       "</div>"
      ],
      "text/plain": [
       "     episode_number                                     title        writers  \\\n",
       "7998         S02E05  The One with Five Steaks and an Eggplant  [Chris Brown]   \n",
       "8294         S02E06          The One with the Baby on the Bus  [Betsy Borns]   \n",
       "\n",
       "            type speaker dialogue_raw dialogue_clean stage_direction_inline  \\\n",
       "7998  scene_note     NaN          NaN            NaN                    NaN   \n",
       "8294  scene_note     NaN          NaN            NaN                    NaN   \n",
       "\n",
       "     scene_note_inline stage_direction_only  \\\n",
       "7998               NaN                  NaN   \n",
       "8294               NaN                  NaN   \n",
       "\n",
       "                                        scene_note_only  season  episode  \n",
       "7998  Scene: At Chandler and Joey's. Ross and Chandl...       2        5  \n",
       "8294                     Scene: At Monica and Rachel's.       2        6  "
      ]
     },
     "execution_count": 67,
     "metadata": {},
     "output_type": "execute_result"
    }
   ],
   "source": [
    "# 2 episodes with only one scene cut each\n",
    "df_script[df_script[\"episode_number\"].isin([\"S02E05\", \"S02E06\"]) & \n",
    "          ~df_script[\"scene_note_only\"].isna()]"
   ]
  },
  {
   "cell_type": "code",
   "execution_count": 68,
   "id": "f11f47f2",
   "metadata": {},
   "outputs": [
    {
     "data": {
      "text/plain": [
       "array([\"(MACHINE--JOEY'S VOICE)\", \"At Monica and Rachel's\",\n",
       "       'At Somplace Nice', 'glasses clinking', \"at Monica and Rachel's\",\n",
       "       'phone rings', 'at the concert', 'at Central Perk',\n",
       "       \"Monica's pager goes off\", 'Everyone goes over to comfort Monica',\n",
       "       'Joey lunges for phone and misses.',\n",
       "       'Chandler has a basketball which he is moving closer to, then away from, Monica',\n",
       "       'Central Perk',\n",
       "       'Chandler and Joey are loaded down with baby stuff, and Ben',\n",
       "       'Monica shakes her head.', 'on the sidewalk outside Central Perk',\n",
       "       'chez Monica and Rachel', 'Ben starts crying'], dtype=object)"
      ]
     },
     "execution_count": 68,
     "metadata": {},
     "output_type": "execute_result"
    }
   ],
   "source": [
    "df_script[df_script[\"episode_number\"].isin([\"S02E05\", \"S02E06\"]) & \n",
    "          df_script[\"scene_note_only\"].isna()][\"stage_direction_only\"].dropna().unique()"
   ]
  },
  {
   "cell_type": "markdown",
   "id": "a869f083",
   "metadata": {},
   "source": [
    "<div class=\"alert alert-block alert-info\">\n",
    "    We are missing additional scene cuts as some of them are in <code>stage_direction_only</code> but are too difficult to extract using regex (i.e. S02E05, S02E06). Some of them also don't exist (S02E03). These placements make sense since, when looking at how script writers write scripts, the place they add these notes are based on feeling. When looking at the columns <code>stage_direction_inline</code>, <code>stage_direction_only</code>, <code>scene_note_inline</code>, and <code>scene_note_only</code> side-by-side, there also appears to be some overlap. These columns can hence later be combined.\n",
    "</div>"
   ]
  },
  {
   "cell_type": "code",
   "execution_count": 69,
   "id": "48557cf6",
   "metadata": {},
   "outputs": [],
   "source": [
    "# A few problematic rows, but this can be ignored if we merge all 4 columns anyway.\n",
    "# df_script[~df_script[\"stage_direction_inline\"].isnull() & ~df_script[\"scene_note_inline\"].isnull()]"
   ]
  },
  {
   "cell_type": "markdown",
   "id": "6c31ff7c",
   "metadata": {},
   "source": [
    "<div class=\"alert alert-block alert-info\">\n",
    "    We will need to check the accuracy of the <code>scene_note_only</code> column, since there seems to be big missingness. \n",
    "    <br><br>\n",
    "    <b>Idea:</b> We can take a sample of 236*0.05 = 12 approximately episodes to watch and note down how many scene change sthere are (scene changes = location changes).\n",
    "</div>"
   ]
  },
  {
   "cell_type": "code",
   "execution_count": 70,
   "id": "6a7ebdd9",
   "metadata": {},
   "outputs": [],
   "source": [
    "# few corrections for mistakes the regex made\n",
    "str1 = \"In a TV commercial that the gang is watching at Monica and Rachel's\"\n",
    "str2 = \"Rachel has gone off on her own to look for the cat's owner\"\n",
    "str3 = \"A Street: Monica and Phoebe are walking to a newsstand\"\n",
    "str4 = \"Chandler and Joey's Chandler is talking with his mom\"\n",
    "str5 = \"A wintry February day in New York City\"\n",
    "str6 = \": Chandler's Office\"\n",
    "str7 = \"13: Central Perk\"\n",
    "str8 = \"later the bridesmaids and ushers are getting ready to start\"\n",
    "str9 = \"Monica and Rachel's: everyone is there and they are watching an info-mercial that stars Joey\"\n",
    "\n",
    "df_test.loc[df_test[\"scene_note_extracted\"] == \"The Mr\", \"scene_note_extracted\"] = \"The Mr. Bowmont\"\n",
    "df_test.loc[df_test[\"scene_note_extracted\"] == \"N\", \"scene_note_extracted\"] = \"N.Y.U.\"\n",
    "df_test.loc[df_test[\"scene_note_extracted\"] == str1, \"scene_note_extracted\"] = \"Monica and Rachel's apartment\"\n",
    "df_test.loc[df_test[\"scene_note_extracted\"] == str2, \"scene_note_extracted\"] = np.nan\n",
    "df_test.loc[df_test[\"scene_note_extracted\"] == str3, \"scene_note_extracted\"] = \"A street\"\n",
    "df_test.loc[df_test[\"scene_note_extracted\"] == str4, \"scene_note_extracted\"] = \"Chandler and Joey's apartment\"\n",
    "df_test.loc[df_test[\"scene_note_extracted\"] == str5, \"scene_note_extracted\"] = \"Central Perk\"\n",
    "df_test.loc[df_test[\"scene_note_extracted\"] == str6, \"scene_note_extracted\"] = \"Chandler's Office\"\n",
    "df_test.loc[df_test[\"scene_note_extracted\"] == str7, \"scene_note_extracted\"] = \"Central Perk\"\n",
    "df_test.loc[df_test[\"scene_note_extracted\"] == str8, \"scene_note_extracted\"] = \"A wedding\"\n",
    "df_test.loc[df_test[\"scene_note_extracted\"] == str9, \"scene_note_extracted\"] = \"Monica and Rachel's apartment\""
   ]
  },
  {
   "cell_type": "markdown",
   "id": "f71bcdf1",
   "metadata": {},
   "source": [
    "We aggregate/group the locations to allow for fewer columns. Categories include:\n",
    "\n",
    "**Core homes:** \n",
    " - 4 main apartments, incl. the separate rooms\n",
    " - other apartments and houses\n",
    " - building lobbies, halls, and balconies\n",
    "\n",
    "**Social life:**\n",
    "- Central Perk (it's a main location, so it's alone); need to correct \"Central Park\"\n",
    "- other restaurants, cafés, bars, diners\n",
    "- hotels (incl. hotel rooms and bathrooms and the cabin)\n",
    "- celebrations (parties and weddings, The Rehearsal dinner hall)\n",
    "- entertainment (zoos, parks, sports games, strip club, museums)\n",
    "\n",
    "**Public and city spaces:**\n",
    "- transport (airports and flights, subway, cars, taxi's)\n",
    "- streets, ATMs\n",
    "- shops, stores, services (laundromats and dry cleaners, bank)\n",
    "- gym and classes (Lamaze class, Tap Class, locker room)\n",
    "- beach (incl. beach house)\n",
    "\n",
    "**Work and career:**\n",
    "- jobs (incl. job offices) (Iridium restaurant for Monica, Museum of Prehistoric History for Ross, Chandler's Office, Phoebe's Massage Parlor, Mr. Ratstatter's (RTST) office, Estelle Leonard Talent Agency)\n",
    "- univeristy (labs, lectures, N.Y.U., where Ross teaches)\n",
    "\n",
    "**Special and Other:**\n",
    "- cemetery; correct \"cemetary\"\n",
    "- We cut back to the present (may remove this)\n",
    "- hospitals and doctor's offices\n",
    "\n"
   ]
  },
  {
   "cell_type": "code",
   "execution_count": 71,
   "id": "a0461b52",
   "metadata": {},
   "outputs": [],
   "source": [
    "# df_test[df_test[\"scene_note_extracted\"]=='Ross goes to see Mike to explain about Phoebe'].values\n",
    "\n",
    "# df_test[df_test[\"scene_note_extracted\"]==\"Chandler\"].values\n",
    "# df_test[df_test[\"scene_note_extracted\"]==\"Monica\"].values\n",
    "# df_test[df_test[\"scene_note_extracted\"]==\"Ross\"].values"
   ]
  },
  {
   "cell_type": "code",
   "execution_count": 72,
   "id": "c150fe7e",
   "metadata": {},
   "outputs": [],
   "source": [
    "# Map locations to categories\n",
    "category_dict = {\n",
    "    \"Central Perk\": [\n",
    "        \"Central Perk\", \"Central Park\", \"Outside Central Perk\", \"Central Perk close to closing\",\n",
    "        \"inside Central Perk\", \"Phoebe is in central-perk with Joey telling him what Ross said t her at the beginning\",\n",
    "        \"The street outside Central Perk\", \"Central perk\", \"Inside Central Perk\", \"Back in New York\",\n",
    "        \"Ross is in Central Perk\", \"Monica enters Central Perk\", \"Phoebe is at Central Perk\", \"Ross walks into Central Perk\",\n",
    "        \"Central Perk - Chandler\", \"The street down the block from Central Perk\", \"Cental Perk\", \"Central Perk: Rachel\",\n",
    "        \"The street right in front of Central Perk\", \"Outside of Central Perk\", \"Outside Central Perk\",\n",
    "        \"The street in front of Central Perk\", \"Phoebe and Rachel sitting on the couch in Central Perk\"\n",
    "    ],\n",
    "\n",
    "    \"Transport\": [\n",
    "        \"The Subway\", \"The subway\", \"Subway station\", \"The Porsche\",\n",
    "        \"Back in the cab in front of Phoebe's dad's house\", \"In Phoebe’s Grandmother’s cab\",\n",
    "        \"The train\", \"A train to Poughkeepsie\",\n",
    "        \"Gary's cop car\", \"The ride along\", \"the 5th Precinct\", \"Gary's precinct\",\n",
    "        \"The Airport\", \"Airport\", \"The airport\", \"An airport in New York\", \"An airport in London\",\n",
    "        \"The airport ticket counter\", \"The ticket-counter\", \"The gate\", \"The gate at the airport\",\n",
    "        \"Boarding the plane\", \"The Virgin Atlantic flight to London that Rachel is on\",\n",
    "        \"Flight 1066 to Athens\", \"A 747 somewhere over the North Atlantic\", \"An airplane cabin\",\n",
    "        \"An aircraft cabin\", \"That same plane cabin\", \"The plane\", \"The Airport Ticket Counter\"\n",
    "    ],\n",
    "\n",
    "    \"Main apartments\": [\n",
    "        \"Ross's Apartment\", \"Ross' apartment\", \"Ross's apartment\", \"Ross's bedroom\", \"Ross’s bedroom\", \"The fire escape\",\n",
    "        \"Ross’s Kitchen\", \"Ross’s Bedroom\", \"Ross’s\", \"Ross’s apartment\", \"The roof\", \"Their Building\", \"Joey's bedroom\",\n",
    "        \"Joey's room: Joey is sitting on his bed reading DooL transcript when Rachel walks in\", \"Joey’s\", 'Joey’s Apartment',\n",
    "        'Joey’s bedroom', \"Looking through Ross's window\", \"The Roof\", \"Living room\", \"Phoebe is sitting with Mike\", \n",
    "        \"Ross's new apartment\", \"Ross's now empty apartment\", \"Ross's place\", \"The guest bedroom\", \"Phoebe's Apartment\",\n",
    "        \"Ross and Rachel's apartment\", \"Ross and Rachel’s apartment\", \"outside Phoebe's apartment\", \"Ross\", \"Ross and\",\n",
    "        \"Ross’s Apartment\", \"Ross's apartment the next morning\", \"Joey and\", \"Joey and Rachel's\", \"Ross and Rachel's\",\n",
    "        \"Ross and Rachel's kitchen\", \"Back to the living room\", \"house next to the one the Bings are moving into\",\n",
    "        \"Monica's Apartment\", \"Monica's apartment\", \"Rachel and Monica's\", \"Monica’s\", \"Joey's\", \"Joey's Apartment\",\n",
    "        \"Monica’s bedroom\", \"Monica’s new kitchen\", \"Monica and Rachel's\", \"Monica and Rachel's apartment\", \"Ross'\",\n",
    "        \"Monica and Rachel's Balcony\", \"Monica's Bedroom\", \"Monica's bedroom\", \"Monica and Rachel’s\", \"Ross and Rachel�s\",\n",
    "        \"Monica and Rachels apartment\", \"At Monica and Rachel's\", \"Monica and Rachel\", \"Phoebe's apartment: Phoebe\", \n",
    "        \"Rachel and Monica's apartment\", \"Back at Monica and Rachel's apartment\", \"Monica and Rachel’s bathroom\",\n",
    "        \"Monica and Chandler's apartment\", \"Monica and Chandler’s apartment\", \"Monica and Chandler’s\", \"Chandler\",\n",
    "        \"Monica and Chandler's\", \"Monica and Chandler’s bedroom\", \"Monica and Chandler’s bathroom\", \"Chandler and Monica's\",\n",
    "        \"Chandler and Monica's apartement\", \"Chandler and Monica's apartment\", \"Chandler and Monica's future house\", \n",
    "        \"Chandler and Monica's new house\", \"Chandler and Monica’s\", \"Chandler and Monica’s bathroom\", \"Monica\",\n",
    "        \"Monica and Chandler's kitchen\", \"Monica and Chandler's room\", \"Chandler and Joey's erm\", \"Ross and Rachel’s\",\n",
    "        \"Chandler arrives home and Monica's got a video of Sharks ready for Chandler\", \"Chandler arrives home from work\",\n",
    "        \"Chandler is packing the broken china in its box\", \"Chandler walks into Joey's apartment\", \"Ross is at Phoebe's\",\n",
    "        \"Monica and Chandler's Aparment\", \"Monica and Chandler's apartement\", \"Monica and Chandler's Apartement\",\n",
    "        \"Monica and Chandler's future house\", \"Monica and Chandler's new house\", \"Monica and Chandler's weekend\",\n",
    "        \"Monica and Chandler's apartment continued\", \"Monica and Chandler’s new apartment\", \"Chandler’s and Monica’s apartment\",\n",
    "        \"Monica and Chandler’s bedroom\", \"Monica and Chandler’s bathroom\", \"Chandler and Joey's Bathroom\", \"Ross’s Building\",\n",
    "        \"Ross's Apartment: Ross is doing something on his laptop when Chandler walks in\", \"Ross's Building\", \"Ross's building\",\n",
    "        \"Rachel’s Bedroom\", \"Rachel’s bedroom\", \"Chandler and Joey's and Ross's\", \"Mon and Chan's\", 'Mona’s Apartment',\n",
    "        \"Chandler and Joey’s Bathroom: Chandler is watching the duck swim in the bathtub\", \"Monica and Rachel's erm\",\n",
    "        \"Rachel’s Room\", \"Rachel’s old room\", \"Rachel’s Old Bedroom\", \"Gary and Phoebe's apartment\", \"Ross' apartment \",\n",
    "        \"Outside Monica and Rachel's apartment\", 'Outside Ross and Rachel�s', \"Phoebe’s\", \"Rachel and Joey's\", \"Ross�\",\n",
    "        \"Rachel's bedroom\", \"Rachel's room\", \"Joey is in Monica and Chandler's future house\", 'Monica’s Apartment',\n",
    "        'Monica’s Bedroom', 'Monica’s apartment', 'Ms. Geller', \"The Girls apartment\", \"Outside the Nursery\",\n",
    "        \"Chandler and Joey's\", \"Chandler and Joey’s\", \"Chandler and Joey's apartment\", \"Monica's apartment continued\",\n",
    "        \"At Chandler and Joey's\", \"Chandler's apartment\", \"Chandler's bedroom\", \"Monica and Chandler's Apartment\",\n",
    "        \"Chandler and Joey are standing by the kitchen entrance\", \"change back an forth: Monica and Chandler's Apartment\",\n",
    "        \"Back in Chandler and Joey's apartment\", \"Joey's new apartment\", \"Joey's apartment\", \"Monica's living room\",\n",
    "        \"Joey’s apartment\", \"Joey and Janine’s apartment\", \"Joey and Rachel's apartment\", \"Joey and Rachel’s\",\n",
    "        \"Joey and now Rachel's apartment\", \"Joey and Janine’s new apartment\", 'Monica and Joey’s', \"Rachel and Joey’s\"\n",
    "        \"Chandler’s\", \"Chandler’s bedroom\", \"Chandler and Joey’s Bathroom\", 'Monica and Chandlers apartment', \n",
    "        'Monica and Chandler\\'s apartment \" continuing action', \"Monica and Chandler's bedroom\", \"Rachel and Joey's apartment\",\n",
    "        \"The Storage Room in the basement of Monica and Rachel's building\", 'Monica and Phoebe’s', \"Rachel is at Monica's\",\n",
    "        \"Joey's Bedroom\", \"Joey’s Bedroom\", \"Joey's room\", \"Joey’s room\", \"Joey's place\", \"Monica and Rachel's balcony\",\n",
    "        \"Phoebe's at her apartment waiting for Mike Ross comes over\", \"Phoebe's apartment\", \"Back at Phoebe's\",\n",
    "        \"Phoebe's place\", \"Phoebe’s place\", \"Phoebe's apartment building\", \"Outside Ross and Rachel’s\", \"The Balcony\",\n",
    "        \"The building's roof\", \"Outside Ross and Rachel's\", \"Outside Phoebe's apartment\", \"Phoebe’s apartment building\", \n",
    "        \"The Building’s Roof\", \"The Fire Escape\", \"The Bings� bedroom\", \"Chandler’s\", \"Rachel and Joey’s\"\n",
    "    ],\n",
    "    \n",
    "    \"Other places\": [\n",
    "        \"Nana's house\", \"Nana's Bedroom\", \"Carol and Susan's apartment\", \"Carol and Susan's\", \"The porch\", \"Michelle's\",\n",
    "        \"Phoebe's grandmother's place\", \"Phoebe’s apartment\", \"Phoebe’s hospital room\", \"Phoebe and Rachel’s new apartment\", \n",
    "        \"Phoebe and Rachel's class\", \"Phoebe and Rachel’s\", \"Phoebe and Rachel’s sitting\", \"Danny's apartment\",\n",
    "        \"Phoebe's dad's house\", \"Phoebe’s dad’s house\", \"A random apartment building\", \"The hotel\", \"The Mr. Bowmont\",\n",
    "        \"Carol and Susan’s\", \"Kathy’s apartment\", \"Ursula’s apartment\", \"Ursula's apartment\", \"Green's mansion\",\n",
    "        \"Amanda's apartment\", \"Elizabeth Hornswoggle's apartment\", \"Elizabeth's apartment\", \"Garbage room: Mr\",\n",
    "        \"Elizabeth’s Dorm Room\", \"Elizabeth’s apartment\", \"Doug's house\", \"Ugly Naked Guy's apartment\",\n",
    "        \"The Geller household\", \"The Gellers' house\", \"The Geller’s Garage\", \"Bill and Colleen's apartment\",\n",
    "        \"The Geller’s kitchen\", \"Monica’s childhood bedroom (gym)\", \"Monica’s Restaurant’s kitchen\", 'Phoebe Sr',\n",
    "        \"Monica’s Restaurant\", \"Monica’s Restaurant’s Kitchen\", \"Monica’s Restaurant Kitchen\", \"The apartment in the listing\",\n",
    "        \"Richard’s Apartment\", \"Richard’s apartment\", \"Richard’s bedroom\", \"Back in the conference room in Tulsa\",\n",
    "        \"Mike's apartment\", \"Mike's parents house\", \"Mike's parents building\", \"Barbados\", \"Guest room\",\n",
    "        \"Mike's parents house again\", \"Mike's place\", \"Mike and Phoebe in Phoebe's place\", \"Hotel Monica\",\n",
    "        \"Chandler and Eddie's apartment\", \"Joey's co-star's apartment\", \"Westminster Abbey\", \"Tulsa\", \"The Midfield Day School\",\n",
    "        \"Joey’s sister’s house\", \"Jason’s apartment\", \"Pete's apartment\", \"Dr. Burke's apartment\", \"Hotel's room\",\n",
    "        \"Treeger’s apartment\", \"Mr. Treeger’s apartment\", \"Jen's apartment\", \"The conference room in Tulsa again\",\n",
    "        \"The Bing household\", \"The Bings�\", \"Bings in bed\", \"Ross and Emily’s room\", \"Ross and Rachel’s room\", \n",
    "        \"Ross’s Hotel Room\", \"Ross’s room\", \"Chandler’s Hotel Room\", \"Chandler's hotel room\", \"game room\",\n",
    "        \"Monica and Chandler's hotel room\", \"Chandler and Joey’s hotel room\", \"Chandler and Monica's room\", \n",
    "        \"Chandler and Monica's weekend\", \"Chandlers hotel room\", \"back in the conference room in Tulsa\", \"The Hotel\",\n",
    "        \"Chandler's hotel room in Tulsa\", \"A Cabin in the Woods\", \"Outside of Elizabeth’s dormitory\", \"the hotel game room\",\n",
    "        \"the hotel conference room\", \"Eric’s Apartment\", \"Hillary’s apartmen\", \"Hillary’s apartment\", \"Hotel's reception\", \n",
    "        \"Outside Ugly Naked Guy's apartment\", \"Outside Danny's apartment\", \"Outside Mona’s Apartment\", \"Atlantic City\",\n",
    "        \"The house next door to Chandler and Monica's new house\", \"The house Monica and Chandler are viewing\", \n",
    "        \"It's an old home movie of the Geller's backyard\", \"Rachel’s Hospital Room\", \"Joey and Charlie's room\",\n",
    "        \"Joey and Janine's\", 'Joey and Janine’s', 'Joey enters his hotel room', 'Joey in his hotel in room in Barbados',\n",
    "        \"Joey is back at Hayley's place after there date\", 'Joey is back at Hayleys apartment', \"The beach house\", \n",
    "        \"The beachhouse\", \"Joshua’s parents’ apartment\", \"Kate’s Apartment\", \"Mrs. Verhoeven’s Apartment\", 'Las Vegas', \n",
    "        'Monica’s Hotel Room', 'Moving Shot towards The Waltham House', \"London\", \"London Marriott\", \"Phoebe and Rachel's\",\n",
    "        \"Monica’s childhood bedroom (which has been turned into a gym)\", \"Max and David's lab\", \"Pete’s apartment\",\n",
    "        \"Sting’s Apartment\", \"Sarah’s bedroom\", \"The Geller household kitchen\", \"The Gellers' kitchen\", \"The Geller’s Kitchen\",\n",
    "        \"Outside Cheryl's apartment\", \"Outside Phoebe's dad's house\", \"Outside the beach house\", \"Outside the bathroom\",\n",
    "        \"Paradise Hotel lounge in Barbados\", \"Paul’s Bedroom\", \"Paul’s Cabin\", \"Rachel and Barry’s bedroom\", \"Ross's room\",\n",
    "        \"Rachel's hotel room\", \"Richard's apartment\", \"Rachel’s hotel room\", \"Room 816\", \"Ross and Carol's\", \n",
    "        \"Ross and Monica’s parent’s garage\", \"Ross and Rachel's hotel room\", \"Ross and Rachel's room\", \"Ross's hotel room\",\n",
    "        \"The Adoption Agency in Ohio\", \"The Atlantis Resort\", \"Ross goes to see Mike to explain about Phoebe\"\n",
    "    ],\n",
    "\n",
    "    \"Hallways\": [\n",
    "        \"The hallway of Monica's building\", \"The Hallway\", \"Out in the hall\", \"The Hall\", \"The hall\", \"The hallway\",\n",
    "        \"the hallway\", \"Hallway\", \"Hallway between the apartments\", \"The hallway between the apartments\",\n",
    "        \"Later on in the hallway between the apartments\", \"The hallway after the party\", \"The Hallway Outside Ross’s Apartment\",\n",
    "        \"The hallway between the two apartments\", \"The Hallway Between The Apartments\",\n",
    "        \"The hallway of Ross’s building\", \"The hallway in Ross's building\", \"The corridor\",\n",
    "        \"The Lobby\", \"The Hotel Lobby\", \"The lobby of Ross's building\", \"Ross's building's lobby\",\n",
    "        \"The lobby in Ross's building\", \"Their building's lobby\", \"hall of the romantic inn in Vermont\",\n",
    "        \"The hallway between the bedrooms\", \"Hallway outside Chandler and Joey's apartment\",\n",
    "        \"A hallway\", \"A hallway in an apartment building\", \"In the hall\", \"A Hallway\",\n",
    "        \"The hallway and stairs outside Chandler and Monica's apartment\", \"The Lobby of Chandler and Rachel’s building\",\n",
    "        \"A hall on the floor where Chandler works\", \"A lobby\", \"the hotel lobby\", \"The Hall Outside Lydia's Room\",\n",
    "        \"The Hallway between the Apartments\", \"The Hallway between the apartments\", \"Ross and his date walk into a lobby\",\n",
    "        \"Ross walks in the hallway to his apartment and stops in front of his own door\"\n",
    "    ],\n",
    "\n",
    "    \"Restaurants\": [\n",
    "        \"A Restaurant\", \"A fancy restaurant\", \"Fancy restaurant\", \"The ladies' bathroom at the restaurant\",\n",
    "        \"The fancy restaurant\", \"The Restaurant\", \"A Chinese Restaurant\", \"The Chinese Restaurant\", \"Hotel's bar\",\n",
    "        \"The bathroom at the restaurant\", \"The bar\", \"Mike and Phoebe at a restaurant\", \"Mike's piano bar\", 'Piano bar', \n",
    "        \"Rift’s Restaurant\", \"Riff's\", \"Joe-G's Pizza\", \"Allesandro’s\", \"Moondance Diner\", \"A fancy restraunt (Marcel's)\",\n",
    "        \"The Moondance diner\", \"The Moondance Diner\", \"The Philly\", \"A Mexican Restaurant\", \"A nice restraunt\",\n",
    "        \"A restaurant\", \"Restaurant\", \"Restraunt\", \"Iridium Restaurant\", \"Iridium\", \"A restaurant in Rome\",\n",
    "        \"Bloomingdale’s\", \"Bloomingdale's\", \"A Pizza Joint\", \"A random restaurant\", \"At the counter\", \"In front of Macys\",\n",
    "        \"Another restaurant\", \"The restaurant\", \"Outside the restaurant\", \"Dot’s Spot\", \"hotel's bar\", \"the bar\",\n",
    "        \"Pete’s Restaurant’s Kitchen\", \"Pete’s Restaurant\", \"Phoebe and Mike at a restaurant\", \"A bar\", \"Piano Bar\",\n",
    "        \"The restaurant with still just Phoebe and Joey\", \"Back at the restaurant with Joey and Sarah\", \"The 50's theme cafe\", \n",
    "        \"Back at the restroom at Marcel's\", \"Back in the restraunt\", \"Coffee place\", \"Delmonico's\", \"Delmonico's restaurant\",\n",
    "    ],\n",
    "\n",
    "    \"Jobs\": [\n",
    "        \"Museum of Prehistoric History\", \"Museum of Natural History\", \"Outside Ralph Lauren building\", \"N.Y.U.\",\n",
    "        'Elevator at the Ralph Lauren Offices', 'Elevator at the Ralph Lauren offices', \"Classroom\",\n",
    "        \"The museum planetarium\", \"The Library\", \"The library’s Paleontology section\", \"a NYU lecture hall\",\n",
    "        \"Ross’s Classroom\", \"Ross’s classroom\", \"Ross’s office\", \"Ross' office\", \"A Brown Bird meeting\",\n",
    "        \"Rachel’s new job\", \"Rachel's job interview\", \"Rachel’s Outer Office\", \"Rachel’s Office\", \"The \\\"Pyramid\\\" Studio\",\n",
    "        \"Rachel’s office\", \"Rachel's office\", \"Fortunata Fashions\", \"In front of Monica's restaurant\",\n",
    "        \"A kitchen somewhere\", \"A kitchen where Phoebe and Monica are finishing up a catering job\", \"The Auditorium\",\n",
    "        \"Back in the kitchen at the funeral\", \"In the living room at the funeral\", \"Interview room\",\n",
    "        \"Chandler's Office\", \"Chandler's Office in Tulsa\", \"Chandler's job\", \"Monica's restaurant\", \"Ralph Lauren\", \n",
    "        \"Chandler's new window office\", \"Chandler's new workplace\", \"Chandler's office\", \"Chandler's office building\",\n",
    "        \"Chandler's office in Tulsa\", \"Chandler’s Office\", \"Chandler’s Office Building\", \"Chandler’s office\",\n",
    "        \"Outside Chandler’s Office\", \"Outside of Chandler’s office\", 'Joey is at the cab driver interview',\n",
    "        \"Phoebe's Massage Parlor\", \"Phoebe's massage parlour\", \"Phoebe’s Work\", \"Phoebe’s office\", \n",
    "        \"Phoebe's cab\", \"Phoebe’s cab\", \"Phoebe’s class\", \"Phoebe and Rachel's class\", \"Phoebe and Rachel’s class\",\n",
    "        \"The Class\", \"Monica and Phoebe's class\", \"Monica and Phoebe's\", \"Filming a scene from the movie\",\n",
    "        \"The telemarketing office\", \"The New School\", \"A Classroom\", \"Audition room\", \"Rachel's new job\",\n",
    "        \"The lecture\", \"A Casting Director’s Office\", \"The casting director’s office\", \"Rachel’s New Office\",\n",
    "        \"Casting Director #1’s office\", \"Casting Director #2’s office\", \"Casting Director #3’s office\",\n",
    "        \"Joey's audition\", \"Joey's dance audition\", \"Joey’s Premiere\", \"Joey’s work\", \"Rachel’s outer office\",\n",
    "        \"Joey work\", \"Joey's job\", \"Unitel Video\", \"The Set\", \"The Movie Set\", \"At a writer's desk\", \"Recording studio\",\n",
    "        \"Days Of Our Lives set\", \"Days of Our Lives' Studios\", \"DOOL set\", \"Joey’s Dressing Room\", \"Joey’s Audition\",\n",
    "        \"Joey and Ben's audition\", \"Ben and Joey's callback\", \"Inside Joey’s Premiere\", \"A Film Set\",\n",
    "        \"The theatre where Joey is auditioning\", \"The next time at the movie set\", \"The movie set\", \"Backstage at Joey’s play\",\n",
    "        \"Ben and Joey's (Isn't that an ice cream??) callback\", \"Ben's audition\", \"Cole-Geddes Casting Agency\", \"At Pyramid\",\n",
    "        \"Joey's at the game show \\\"Pyramid\\\" with host Donny Osmond\", \"The Telethon\", \"Phoebe's class\",\n",
    "        \"The Museum of Prehistoric History (Ross's work)\", \"Phoebe's Massage Parlor\", \"Pier 59 Studios\",\n",
    "        \"Silvercup Studios\", \"Silvercup studios\", \"Barry's office\", \"Barry's Office\", \"Mr. Ratstatter's (RTST) office\", \"Mr. Ratstatter's office\",\n",
    "        \"Mr. Zelner's office\", \"Mr. Zelner’s Office\", \"Mr. Zellner's office\", \"An Office Building\", \"Benjamin's office\",\n",
    "        \"Estelle Leonard Talent Agency\", \"Estelle Leonard Theatrical Agency\", \"Phoebe’s Herbal Guy’s office\", \n",
    "        \"Terry’s office\", \"Mac’s Office\", \"The Portrait Studio\", \"A Portrait Studio\", \"Zack's office\",\n",
    "        \"The Boardroom\", \"Ms. McKenna’s Office\", \"Earl’s Office\", \"The Freeman Building\", \"Game room\", \"Conference room\",\n",
    "        \"Joanna’s office\", \"Estelle’s (Joey’s Agent) Office\", \"Ross’s lawyer’s office\", \"A Boardroom\", \"Pete’s office\",\n",
    "        \"Estelle's (Joey's Agent) Office\", \"Guru Saj’s office: Joey and Chandler have taken the duck to see the guru\",\n",
    "        \"The Days of Our Lives producer’s office\", \"Prof\", \"Professor Sherman's office\", \n",
    "    ],\n",
    "\n",
    "    \"Hospitals\": [\n",
    "        \"Carol's OB/GYN\", \"An Emergency Room\", \"The Emergency Room\", \"The Hospital\", \"Hospital\", \"The hospital\",\n",
    "        \"The Coma Guy's Room\", \"Carol's Hospital Room\", \"The Waiting Room\", \"Another Waiting Room\", \"A hallway in the hospital\",\n",
    "        \"Joey and Lydia in the hospital room\", \"Lydia's Hospital Room\", \"Lydia's Room\", \"Carol's room\", \"The waiting room\",\n",
    "        \"Carol's Room\", \"The Delivery Room\", \"The Semi-Private Labor Room\", \"The Recovery Room\", \"doctor's waiting room\",\n",
    "        \"Another Hospital Room\", \"Another hospital room\", \"A hospital\", \"A hospital hallway\", \"An Empty Hospital Room\",\n",
    "        \"Rachel’s Hospital Room\", \"A doctor’s office\", \"The Doctor’s Office\", \"Doctor Connelly's office\", \"The Broom Closet\",\n",
    "        \"The Janitor’s Closet\", \"The Doctor’s office\", \"Outside the Janitor’s Closet\", \"Rachel’s Doctor’s Office\",\n",
    "        \"Pediatrician's office\", \"Dr. Long’s Office\", \"The Fertility Clinic\", \"A Janitorial Closet\", 'Dr. Burke’s office', \n",
    "        \"Dr. Rhodes's Office\", \"A Medical Research Office\", \"The Medical Research office\", \"A Union battlefield hospital\",\n",
    "        \"The Western front during World War I\", \"Dr. Burke's office\", \"A Doctor's Office\", \"A Hospital Reception\",\n",
    "        \"The delivery room\", \"The delivery room at the hospital\", \"Monica's eye doctor's office\", \"The Vending Machines\"\n",
    "    ],\n",
    "\n",
    "    \"City spaces\": [\n",
    "        \"A street\", \"A Street\", \"The next morning on the street\", \"City street\", \"Street\", \"The street\", \"The smoker's balcony\",\n",
    "        \"Another street\", \"The Street\", \"Street in front of the London Marriott\", \"The street outside the building\",\n",
    "        \"Outside\", \"Outside Room 816\", \"A Department Store\", \"Outside the nursery\", \"Outside the restaurant\", \"The Park\",\n",
    "        \"Outside Macys\", \"The desert outside of Las Vegas\", \"Backstreet\", \"A Bridal Shop\", \"A Dry Cleaners\", \"A Fire House\",\n",
    "        \"A counter at a government building\", \"A curbside newsstand\", \"A Gym\", \"A Jewelry Shop\", \"A Video Store\", \n",
    "        \"A clothes store\", \"A couch store\", \"A different spray-on tan center\", \"A grocery store that Janice shops in\",\n",
    "        \"A judge’s chambers\", \"A locker room\", \"A mailbox\", \"A newsstand\", \"A park in London\", \"The laundromat\",\n",
    "        \"A tennis court somewhere in the city of New York\", \"ATM vestibule\", \"At the Beach\", \"The rest stop\", \"Beauty salon\",\n",
    "        \"Beth Israel Medical Center\", \"Beatrice Bridal Shop\", \"The park\", \"The playground\", \"The freeway\", \"The Table Store\",\n",
    "        \"Frank's tailor shop\", \"Grammercy Bistero\", \"In the store\", \"The beach\", \"The Xerox place\", \"The Women’s Restroom\",\n",
    "        'The Xerox Place', \"The New York City Children's Fund building\", \"The New York City Children's fund\", \n",
    "        \"The Jewelry Store\", \"The Launderama\", \"The Laundromat\", \"The Gym\", \"The Gift Shop\", \"Kleinman’s\",\n",
    "        \"The New York City Children's fund hallway\", \"The Park: Phoebe and Rachel are getting ready to go running\",\n",
    "        \"Chandler is standing on a street corner waiting for Phoebe in the cab\", \"The couch store\", \"The cemetary\",\n",
    "        \"Madison Square Garden\", \"Library\", \"Mattress King\", \"The Sleep Clinic\", \"The Wake\", \"The Men's room\",\n",
    "        \"Monica and Van Damme are walking down the street\", \"The Morgan Chase Museum\", \"The Men’s Bathroom\",\n",
    "        \"Lara and Jeni’s Massage\", \"New York City Department of Correction\", \"The Funeral Home\", \"The Dry Cleaner’s\",\n",
    "        \"The Dry Cleaners\", \"The Department Store\", \"The ATM vestibule of a bank\", \"The Animal Hospital\", \n",
    "        \"The Baby Furniture Store\", \"Shop\", \"Tattoo parlor\", \"Ross and Chandler’s bank\", \"Chandler’s gym\",\n",
    "        \"Ross and Emily’s planned wedding place\", \"Ross and Rachel are at the playground with Emma\"\n",
    "    ],\n",
    "\n",
    "    \"Social Life\": [\n",
    "        \"A wedding\", \"after the wedding\", \"Barry and Mindy's wedding\", \"at Barry and Mindy's reception\", \"The Banquet Room\",\n",
    "        \"The Wedding reception\", \"Ross’s Wedding\", \"The Wedding Chapel\", \"The Reception\", \"The Reception Hall\",\n",
    "        \"The wedding rehearsal dinner\", \"Wedding rehearsal dinner\", \"The Rehearsal Dinner\", \"The Rehearsal dinner hall\",\n",
    "        \"The Rehearsal Dinner Hall\", \"Later that evening at the rehearsal dinner\", \"A Little White Chapel\", \"The theater\",\n",
    "        \"Cousin Frannie’s Wedding Reception\", \"The Anniversary Party\", \"A Strip Club\", \"A Tap Class\", \"Caesar's Palace Casino\",\n",
    "        \"Phoebe’s birthday\", \"Ross’s birthday\", \"Rachel’s birthday\", \"Monica’s birthday\", \"A blackjack table\", \"The Theater\",\n",
    "        \"The Arena\", \"The rugby game\", \"The Ultimate Fighting Championship\", \"A women’s self-defense class\", \"The Theatre\",\n",
    "        \"The 2001 Soapie Awards\", \"College reunion party\", \"Class of '91 reunion\", \"At the banquet\", \"The Wedding Hall\",\n",
    "        \"The World Premiere of Over There\", \"4 Queens Club\", \"Howard's party\", \"A nightclub\", \"At the tanning salon\",\n",
    "        \"Joey's at the game show Pyramid\", \"The game show studio\", \"Phoebe and Rachel at the Spa\", \"Baby beauty contest\",\n",
    "        \"Phoebe and Rachel at the Spa\", \"At the Spa\", \"A beauty parlour\", \"The Spa Reception\", \"SPA massage center\",\n",
    "        \"SPA massage center\", \"Lamaze class\", \"Phoebe's Grandmother's memorial\", \"Estelle's memorial service\", \"Kathy’s play\",\n",
    "        \"Back at the party in 1987\", \"A strip club\", \"Ross’s birthday\", \"Estelle's memorial service\", \"A Theatre\", \"A Theater\",\n",
    "        \"The church where Ross and Emily are to be married\", \"Back at the party in 1987\", \"The slot machines\",\n",
    "        \"Camera fades to one of the band members playing guitar at the wedding\", \"Chandler in the theater\", \"The Lamaze class\",\n",
    "        \"Downstairs at Danny's party\", \"the Pharmacist convention\", \"The craps table\", 'The breakfast buffet', 'The casino',\n",
    "        'The casino bar', 'The casino floor', \"Joey’s in the front entrance watching for Rachel\", 'Halloween Adventure',\n",
    "        'Healing Hands', 'Healing Hands Inc', 'Heeling Hands Inc', \"Monica's party\", \"Mr. Geller's birthday party\",\n",
    "        \"Mr. Geller's party\", \"The Craps Table\", \"The Craps table\", \"The Cooking Class\", \"Tap Class\", \"San Diege Zoo\", \n",
    "        \"San Diego Zoo\", \"The Charity Event\", \"Rachel's birthday party\", \"Rachel's party\", \"Rehearsal dinner hall\"\n",
    "\n",
    "    ],\n",
    "\n",
    "    \"Uncategorized\": [\n",
    "        \"Camera fades to band\", \"continued from earlier\", \"later\", \"After dinner\", \"We cut back to the present\", \n",
    "        \"The moment we waited for\", \"The moment we waited for has finally arrived\", \"We're back to the present\"\n",
    "    ]\n",
    "}"
   ]
  },
  {
   "cell_type": "code",
   "execution_count": 73,
   "id": "5314b572",
   "metadata": {},
   "outputs": [
    {
     "data": {
      "text/plain": [
       "set()"
      ]
     },
     "execution_count": 73,
     "metadata": {},
     "output_type": "execute_result"
    }
   ],
   "source": [
    "## Check that each location is present in the new dictionary --> needs to give an empty set\n",
    "# unique values from your dataframe\n",
    "df_values = set(df_test[\"scene_note_extracted\"].dropna().unique().tolist())\n",
    "\n",
    "# values you already have in your category_dict\n",
    "checker = set(val for vals in category_dict.values() for val in vals)\n",
    "\n",
    "# find what's in df but not in dictionary\n",
    "missing = df_values - checker  \n",
    "\n",
    "# find what's in dictionary but not in df\n",
    "extra = df_values - checker\n",
    "extra"
   ]
  },
  {
   "cell_type": "code",
   "execution_count": 74,
   "id": "0771fe40",
   "metadata": {},
   "outputs": [],
   "source": [
    "# Flatten into value -> category mapping\n",
    "value_to_category = {val: cat for cat, vals in category_dict.items() for val in vals}\n",
    "\n",
    "df_test[\"location\"] = df_test[\"scene_note_extracted\"].map(value_to_category)"
   ]
  },
  {
   "cell_type": "code",
   "execution_count": 75,
   "id": "07d404ba",
   "metadata": {
    "scrolled": true
   },
   "outputs": [
    {
     "data": {
      "text/html": [
       "<div>\n",
       "<style scoped>\n",
       "    .dataframe tbody tr th:only-of-type {\n",
       "        vertical-align: middle;\n",
       "    }\n",
       "\n",
       "    .dataframe tbody tr th {\n",
       "        vertical-align: top;\n",
       "    }\n",
       "\n",
       "    .dataframe thead th {\n",
       "        text-align: right;\n",
       "    }\n",
       "</style>\n",
       "<table border=\"1\" class=\"dataframe\">\n",
       "  <thead>\n",
       "    <tr style=\"text-align: right;\">\n",
       "      <th></th>\n",
       "      <th>episode_number</th>\n",
       "      <th>title</th>\n",
       "      <th>writers</th>\n",
       "      <th>type</th>\n",
       "      <th>speaker</th>\n",
       "      <th>dialogue_raw</th>\n",
       "      <th>dialogue_clean</th>\n",
       "      <th>stage_direction_inline</th>\n",
       "      <th>scene_note_inline</th>\n",
       "      <th>stage_direction_only</th>\n",
       "      <th>scene_note_only</th>\n",
       "      <th>season</th>\n",
       "      <th>episode</th>\n",
       "      <th>scene_note_extracted</th>\n",
       "      <th>location</th>\n",
       "    </tr>\n",
       "  </thead>\n",
       "  <tbody>\n",
       "    <tr>\n",
       "      <th>0</th>\n",
       "      <td>S01E01</td>\n",
       "      <td>The One Where Monica Gets a Roommate: The Pilot</td>\n",
       "      <td>[Marta Kauffman, David Crane]</td>\n",
       "      <td>scene_note</td>\n",
       "      <td>NaN</td>\n",
       "      <td>NaN</td>\n",
       "      <td>NaN</td>\n",
       "      <td>NaN</td>\n",
       "      <td>NaN</td>\n",
       "      <td>NaN</td>\n",
       "      <td>Scene: Central Perk, Chandler, Joey, Phoebe, a...</td>\n",
       "      <td>1</td>\n",
       "      <td>1</td>\n",
       "      <td>Central Perk</td>\n",
       "      <td>Central Perk</td>\n",
       "    </tr>\n",
       "    <tr>\n",
       "      <th>1</th>\n",
       "      <td>S01E01</td>\n",
       "      <td>The One Where Monica Gets a Roommate: The Pilot</td>\n",
       "      <td>[Marta Kauffman, David Crane]</td>\n",
       "      <td>dialogue</td>\n",
       "      <td>MONICA</td>\n",
       "      <td>There's nothing to tell! He's just some guy I ...</td>\n",
       "      <td>There's nothing to tell! He's just some guy I ...</td>\n",
       "      <td>NaN</td>\n",
       "      <td>NaN</td>\n",
       "      <td>NaN</td>\n",
       "      <td>NaN</td>\n",
       "      <td>1</td>\n",
       "      <td>1</td>\n",
       "      <td>NaN</td>\n",
       "      <td>NaN</td>\n",
       "    </tr>\n",
       "    <tr>\n",
       "      <th>2</th>\n",
       "      <td>S01E01</td>\n",
       "      <td>The One Where Monica Gets a Roommate: The Pilot</td>\n",
       "      <td>[Marta Kauffman, David Crane]</td>\n",
       "      <td>dialogue</td>\n",
       "      <td>JOEY</td>\n",
       "      <td>C'mon, you're going out with the guy! There's ...</td>\n",
       "      <td>C'mon, you're going out with the guy! There's ...</td>\n",
       "      <td>NaN</td>\n",
       "      <td>NaN</td>\n",
       "      <td>NaN</td>\n",
       "      <td>NaN</td>\n",
       "      <td>1</td>\n",
       "      <td>1</td>\n",
       "      <td>NaN</td>\n",
       "      <td>NaN</td>\n",
       "    </tr>\n",
       "    <tr>\n",
       "      <th>3</th>\n",
       "      <td>S01E01</td>\n",
       "      <td>The One Where Monica Gets a Roommate: The Pilot</td>\n",
       "      <td>[Marta Kauffman, David Crane]</td>\n",
       "      <td>dialogue</td>\n",
       "      <td>CHANDLER</td>\n",
       "      <td>All right Joey, be nice.  So does he have a hu...</td>\n",
       "      <td>All right Joey, be nice.  So does he have a hu...</td>\n",
       "      <td>NaN</td>\n",
       "      <td>NaN</td>\n",
       "      <td>NaN</td>\n",
       "      <td>NaN</td>\n",
       "      <td>1</td>\n",
       "      <td>1</td>\n",
       "      <td>NaN</td>\n",
       "      <td>NaN</td>\n",
       "    </tr>\n",
       "    <tr>\n",
       "      <th>4</th>\n",
       "      <td>S01E01</td>\n",
       "      <td>The One Where Monica Gets a Roommate: The Pilot</td>\n",
       "      <td>[Marta Kauffman, David Crane]</td>\n",
       "      <td>dialogue</td>\n",
       "      <td>PHOEBE</td>\n",
       "      <td>Wait, does he eat chalk?</td>\n",
       "      <td>Wait, does he eat chalk?</td>\n",
       "      <td>NaN</td>\n",
       "      <td>NaN</td>\n",
       "      <td>NaN</td>\n",
       "      <td>NaN</td>\n",
       "      <td>1</td>\n",
       "      <td>1</td>\n",
       "      <td>NaN</td>\n",
       "      <td>NaN</td>\n",
       "    </tr>\n",
       "    <tr>\n",
       "      <th>5</th>\n",
       "      <td>S01E01</td>\n",
       "      <td>The One Where Monica Gets a Roommate: The Pilot</td>\n",
       "      <td>[Marta Kauffman, David Crane]</td>\n",
       "      <td>stage_direction</td>\n",
       "      <td>NaN</td>\n",
       "      <td>NaN</td>\n",
       "      <td>NaN</td>\n",
       "      <td>NaN</td>\n",
       "      <td>NaN</td>\n",
       "      <td>They all stare, bemused.</td>\n",
       "      <td>NaN</td>\n",
       "      <td>1</td>\n",
       "      <td>1</td>\n",
       "      <td>NaN</td>\n",
       "      <td>NaN</td>\n",
       "    </tr>\n",
       "    <tr>\n",
       "      <th>6</th>\n",
       "      <td>S01E01</td>\n",
       "      <td>The One Where Monica Gets a Roommate: The Pilot</td>\n",
       "      <td>[Marta Kauffman, David Crane]</td>\n",
       "      <td>dialogue</td>\n",
       "      <td>PHOEBE</td>\n",
       "      <td>Just, 'cause, I don't want her to go through w...</td>\n",
       "      <td>Just, 'cause, I don't want her to go through w...</td>\n",
       "      <td>NaN</td>\n",
       "      <td>NaN</td>\n",
       "      <td>NaN</td>\n",
       "      <td>NaN</td>\n",
       "      <td>1</td>\n",
       "      <td>1</td>\n",
       "      <td>NaN</td>\n",
       "      <td>NaN</td>\n",
       "    </tr>\n",
       "    <tr>\n",
       "      <th>7</th>\n",
       "      <td>S01E01</td>\n",
       "      <td>The One Where Monica Gets a Roommate: The Pilot</td>\n",
       "      <td>[Marta Kauffman, David Crane]</td>\n",
       "      <td>dialogue</td>\n",
       "      <td>MONICA</td>\n",
       "      <td>Okay, everybody relax. This is not even a date...</td>\n",
       "      <td>Okay, everybody relax. This is not even a date...</td>\n",
       "      <td>NaN</td>\n",
       "      <td>NaN</td>\n",
       "      <td>NaN</td>\n",
       "      <td>NaN</td>\n",
       "      <td>1</td>\n",
       "      <td>1</td>\n",
       "      <td>NaN</td>\n",
       "      <td>NaN</td>\n",
       "    </tr>\n",
       "    <tr>\n",
       "      <th>8</th>\n",
       "      <td>S01E01</td>\n",
       "      <td>The One Where Monica Gets a Roommate: The Pilot</td>\n",
       "      <td>[Marta Kauffman, David Crane]</td>\n",
       "      <td>dialogue</td>\n",
       "      <td>CHANDLER</td>\n",
       "      <td>Sounds like a date to me.</td>\n",
       "      <td>Sounds like a date to me.</td>\n",
       "      <td>NaN</td>\n",
       "      <td>NaN</td>\n",
       "      <td>NaN</td>\n",
       "      <td>NaN</td>\n",
       "      <td>1</td>\n",
       "      <td>1</td>\n",
       "      <td>NaN</td>\n",
       "      <td>NaN</td>\n",
       "    </tr>\n",
       "    <tr>\n",
       "      <th>9</th>\n",
       "      <td>S01E01</td>\n",
       "      <td>The One Where Monica Gets a Roommate: The Pilot</td>\n",
       "      <td>[Marta Kauffman, David Crane]</td>\n",
       "      <td>scene_note</td>\n",
       "      <td>NaN</td>\n",
       "      <td>NaN</td>\n",
       "      <td>NaN</td>\n",
       "      <td>NaN</td>\n",
       "      <td>NaN</td>\n",
       "      <td>NaN</td>\n",
       "      <td>Time Lapse</td>\n",
       "      <td>1</td>\n",
       "      <td>1</td>\n",
       "      <td>NaN</td>\n",
       "      <td>NaN</td>\n",
       "    </tr>\n",
       "  </tbody>\n",
       "</table>\n",
       "</div>"
      ],
      "text/plain": [
       "  episode_number                                            title  \\\n",
       "0         S01E01  The One Where Monica Gets a Roommate: The Pilot   \n",
       "1         S01E01  The One Where Monica Gets a Roommate: The Pilot   \n",
       "2         S01E01  The One Where Monica Gets a Roommate: The Pilot   \n",
       "3         S01E01  The One Where Monica Gets a Roommate: The Pilot   \n",
       "4         S01E01  The One Where Monica Gets a Roommate: The Pilot   \n",
       "5         S01E01  The One Where Monica Gets a Roommate: The Pilot   \n",
       "6         S01E01  The One Where Monica Gets a Roommate: The Pilot   \n",
       "7         S01E01  The One Where Monica Gets a Roommate: The Pilot   \n",
       "8         S01E01  The One Where Monica Gets a Roommate: The Pilot   \n",
       "9         S01E01  The One Where Monica Gets a Roommate: The Pilot   \n",
       "\n",
       "                         writers             type   speaker  \\\n",
       "0  [Marta Kauffman, David Crane]       scene_note       NaN   \n",
       "1  [Marta Kauffman, David Crane]         dialogue    MONICA   \n",
       "2  [Marta Kauffman, David Crane]         dialogue      JOEY   \n",
       "3  [Marta Kauffman, David Crane]         dialogue  CHANDLER   \n",
       "4  [Marta Kauffman, David Crane]         dialogue    PHOEBE   \n",
       "5  [Marta Kauffman, David Crane]  stage_direction       NaN   \n",
       "6  [Marta Kauffman, David Crane]         dialogue    PHOEBE   \n",
       "7  [Marta Kauffman, David Crane]         dialogue    MONICA   \n",
       "8  [Marta Kauffman, David Crane]         dialogue  CHANDLER   \n",
       "9  [Marta Kauffman, David Crane]       scene_note       NaN   \n",
       "\n",
       "                                        dialogue_raw  \\\n",
       "0                                                NaN   \n",
       "1  There's nothing to tell! He's just some guy I ...   \n",
       "2  C'mon, you're going out with the guy! There's ...   \n",
       "3  All right Joey, be nice.  So does he have a hu...   \n",
       "4                           Wait, does he eat chalk?   \n",
       "5                                                NaN   \n",
       "6  Just, 'cause, I don't want her to go through w...   \n",
       "7  Okay, everybody relax. This is not even a date...   \n",
       "8                          Sounds like a date to me.   \n",
       "9                                                NaN   \n",
       "\n",
       "                                      dialogue_clean stage_direction_inline  \\\n",
       "0                                                NaN                    NaN   \n",
       "1  There's nothing to tell! He's just some guy I ...                    NaN   \n",
       "2  C'mon, you're going out with the guy! There's ...                    NaN   \n",
       "3  All right Joey, be nice.  So does he have a hu...                    NaN   \n",
       "4                           Wait, does he eat chalk?                    NaN   \n",
       "5                                                NaN                    NaN   \n",
       "6  Just, 'cause, I don't want her to go through w...                    NaN   \n",
       "7  Okay, everybody relax. This is not even a date...                    NaN   \n",
       "8                          Sounds like a date to me.                    NaN   \n",
       "9                                                NaN                    NaN   \n",
       "\n",
       "  scene_note_inline      stage_direction_only  \\\n",
       "0               NaN                       NaN   \n",
       "1               NaN                       NaN   \n",
       "2               NaN                       NaN   \n",
       "3               NaN                       NaN   \n",
       "4               NaN                       NaN   \n",
       "5               NaN  They all stare, bemused.   \n",
       "6               NaN                       NaN   \n",
       "7               NaN                       NaN   \n",
       "8               NaN                       NaN   \n",
       "9               NaN                       NaN   \n",
       "\n",
       "                                     scene_note_only  season  episode  \\\n",
       "0  Scene: Central Perk, Chandler, Joey, Phoebe, a...       1        1   \n",
       "1                                                NaN       1        1   \n",
       "2                                                NaN       1        1   \n",
       "3                                                NaN       1        1   \n",
       "4                                                NaN       1        1   \n",
       "5                                                NaN       1        1   \n",
       "6                                                NaN       1        1   \n",
       "7                                                NaN       1        1   \n",
       "8                                                NaN       1        1   \n",
       "9                                         Time Lapse       1        1   \n",
       "\n",
       "  scene_note_extracted      location  \n",
       "0         Central Perk  Central Perk  \n",
       "1                  NaN           NaN  \n",
       "2                  NaN           NaN  \n",
       "3                  NaN           NaN  \n",
       "4                  NaN           NaN  \n",
       "5                  NaN           NaN  \n",
       "6                  NaN           NaN  \n",
       "7                  NaN           NaN  \n",
       "8                  NaN           NaN  \n",
       "9                  NaN           NaN  "
      ]
     },
     "execution_count": 75,
     "metadata": {},
     "output_type": "execute_result"
    }
   ],
   "source": [
    "df_test.head(10)"
   ]
  },
  {
   "cell_type": "code",
   "execution_count": 76,
   "id": "f639c87c",
   "metadata": {},
   "outputs": [
    {
     "data": {
      "image/png": "[encoded data removed]",
      "text/plain": [
       "<Figure size 1100x500 with 1 Axes>"
      ]
     },
     "metadata": {},
     "output_type": "display_data"
    }
   ],
   "source": [
    "# plotting counts of aggregated locations\n",
    "counts_loc = df_test[\"location\"].value_counts()\n",
    "\n",
    "plt.figure(figsize=(11,5))\n",
    "plt.bar(counts_loc.index, counts_loc.values)\n",
    "plt.xticks(rotation=45);"
   ]
  },
  {
   "cell_type": "markdown",
   "id": "9182d5f8",
   "metadata": {},
   "source": [
    "**Testing** is necessary for the accuracy of this column. Hence we can pull a random sample and manually note down how many scene/location changes there are, and calculate how accurate this attribute is. "
   ]
  },
  {
   "cell_type": "code",
   "execution_count": 77,
   "id": "99d20395",
   "metadata": {},
   "outputs": [
    {
     "name": "stdout",
     "output_type": "stream",
     "text": [
      "List of episodes we need to watch and note down the number of scene changes:\n"
     ]
    },
    {
     "data": {
      "text/plain": [
       "['S06E06',\n",
       " 'S03E11',\n",
       " 'S08E11',\n",
       " 'S05E11',\n",
       " 'S04E10',\n",
       " 'S04E20',\n",
       " 'S06E07',\n",
       " 'S02E13',\n",
       " 'S09E19',\n",
       " 'S02E18',\n",
       " 'S02E23',\n",
       " 'S10E04']"
      ]
     },
     "execution_count": 77,
     "metadata": {},
     "output_type": "execute_result"
    }
   ],
   "source": [
    "print(\"List of episodes we need to watch and note down the number of scene changes:\")\n",
    "df_test[\"episode_number\"].dropna().sample(12, random_state=6).tolist()"
   ]
  },
  {
   "cell_type": "markdown",
   "id": "871c96d2",
   "metadata": {},
   "source": [
    "## Final Script Dataset Formatting"
   ]
  },
  {
   "cell_type": "code",
   "execution_count": 78,
   "id": "cf03c691",
   "metadata": {},
   "outputs": [],
   "source": [
    "# remove the matched part from the original column\n",
    "# df[\"text_col\"] = df[\"text_col\"].str.replace(pattern, \"\", regex=True).str.strip()"
   ]
  },
  {
   "cell_type": "code",
   "execution_count": 79,
   "id": "e4eb2666",
   "metadata": {},
   "outputs": [],
   "source": [
    "# ## Adding \"writers\" column to \"ratings\" df\n",
    "# # Step 1: group df1 by A,B and combine C\n",
    "# df1_grouped = df1.groupby([\"A\", \"B\"])[\"C\"].sum().reset_index()\n",
    "\n",
    "# # Step 2: merge on matching keys\n",
    "# df_merged = df2.merge(df1_grouped, left_on=[\"a\", \"b\"], right_on=[\"A\", \"B\"], how=\"left\")\n",
    "\n",
    "# # Step 3: optional cleanup\n",
    "# df_merged = df_merged.drop(columns=[\"A\", \"B\"])\n",
    "# print(df_merged)"
   ]
  },
  {
   "cell_type": "markdown",
   "id": "f1ae509c",
   "metadata": {},
   "source": [
    "<div class=\"alert alert-block alert-success\">\n",
    "    <b>TO DO list:</b> \n",
    "    <ul>\n",
    "        <li>#TODO: Final table formatting for NLP code.</li>\n",
    "        <li>Go over code and new table formats with the group.</li>\n",
    "    </ul>\n",
    "</div>"
   ]
  },
  {
   "cell_type": "markdown",
   "id": "2da5a167",
   "metadata": {},
   "source": [
    "---\n",
    "\n",
    "## Ratings Dataset EDA\n",
    "\n",
    "The dataset is from Kaggle, made by users Mohammad Reza Ghari and Moulik Dhade, accessible [here](https://www.kaggle.com/datasets/rezaghari/friends-series-dataset/data). It contains the IMDB ratings of each episode of FRIENDS, along with how many votes there were."
   ]
  },
  {
   "cell_type": "code",
   "execution_count": 80,
   "id": "25795ac1",
   "metadata": {},
   "outputs": [
    {
     "data": {
      "text/plain": [
       "Index(['Year_of_prod', 'Season', 'Episode Number', 'Episode_Title', 'Duration',\n",
       "       'Summary', 'Director', 'Stars', 'Votes'],\n",
       "      dtype='object')"
      ]
     },
     "execution_count": 80,
     "metadata": {},
     "output_type": "execute_result"
    }
   ],
   "source": [
    "df_rating.columns"
   ]
  },
  {
   "cell_type": "code",
   "execution_count": 81,
   "id": "91114c9e",
   "metadata": {},
   "outputs": [
    {
     "data": {
      "image/png": "[encoded data removed]",
      "text/plain": [
       "<Figure size 1000x600 with 1 Axes>"
      ]
     },
     "metadata": {},
     "output_type": "display_data"
    }
   ],
   "source": [
    "# number of episodes released per year\n",
    "counts2 = df_rating[\"Year_of_prod\"].value_counts().head(20)\n",
    "\n",
    "plt.figure(figsize=(10,6))\n",
    "plt.bar(counts2.index, counts2.values)\n",
    "plt.xticks(rotation=45)\n",
    "plt.xlabel(\"Year\")\n",
    "plt.ylabel(\"Number of Episodes\")\n",
    "plt.title(\"Episodes Produced per Year\")\n",
    "plt.show();"
   ]
  },
  {
   "cell_type": "code",
   "execution_count": 82,
   "id": "a178c4a1",
   "metadata": {},
   "outputs": [
    {
     "data": {
      "image/png": "[encoded data removed]",
      "text/plain": [
       "<Figure size 640x480 with 1 Axes>"
      ]
     },
     "metadata": {},
     "output_type": "display_data"
    }
   ],
   "source": [
    "# avg episode duration by season\n",
    "avg_duration = df_rating.groupby(\"Season\")[\"Duration\"].mean()\n",
    "\n",
    "avg_duration.plot(kind=\"bar\")\n",
    "\n",
    "plt.xlabel(\"Season\")\n",
    "plt.ylabel(\"Average Duration\")\n",
    "plt.title(\"Average Episode Duration by Season\")\n",
    "plt.show();"
   ]
  },
  {
   "cell_type": "code",
   "execution_count": 83,
   "id": "1a2f80b6",
   "metadata": {},
   "outputs": [
    {
     "data": {
      "image/png": "[encoded data removed]",
      "text/plain": [
       "<Figure size 640x480 with 1 Axes>"
      ]
     },
     "metadata": {},
     "output_type": "display_data"
    }
   ],
   "source": [
    "# avg star rating by season\n",
    "avg_rating = df_rating.groupby(\"Season\")[\"Stars\"].mean()\n",
    "\n",
    "avg_rating.plot(kind=\"bar\")\n",
    "\n",
    "plt.xlabel(\"Season\")\n",
    "plt.ylabel(\"Average Star Rating (1-10)\")\n",
    "plt.title(\"Average Episode Star Rating by Season\")\n",
    "plt.show();"
   ]
  },
  {
   "cell_type": "code",
   "execution_count": 84,
   "id": "b6890842",
   "metadata": {},
   "outputs": [
    {
     "data": {
      "image/png": "[encoded data removed]",
      "text/plain": [
       "<Figure size 640x480 with 1 Axes>"
      ]
     },
     "metadata": {},
     "output_type": "display_data"
    }
   ],
   "source": [
    "plt.bar(df_rating.index, df_rating[\"Votes\"])\n",
    "plt.xlabel(\"Episodes\")\n",
    "plt.ylabel(\"Number of Votes\")\n",
    "plt.title(\"Votes per Episode\")\n",
    "plt.show();"
   ]
  },
  {
   "cell_type": "code",
   "execution_count": 85,
   "id": "955cb192",
   "metadata": {},
   "outputs": [
    {
     "data": {
      "text/html": [
       "<div>\n",
       "<style scoped>\n",
       "    .dataframe tbody tr th:only-of-type {\n",
       "        vertical-align: middle;\n",
       "    }\n",
       "\n",
       "    .dataframe tbody tr th {\n",
       "        vertical-align: top;\n",
       "    }\n",
       "\n",
       "    .dataframe thead th {\n",
       "        text-align: right;\n",
       "    }\n",
       "</style>\n",
       "<table border=\"1\" class=\"dataframe\">\n",
       "  <thead>\n",
       "    <tr style=\"text-align: right;\">\n",
       "      <th></th>\n",
       "      <th>Year_of_prod</th>\n",
       "      <th>Season</th>\n",
       "      <th>Episode Number</th>\n",
       "      <th>Episode_Title</th>\n",
       "      <th>Duration</th>\n",
       "      <th>Summary</th>\n",
       "      <th>Director</th>\n",
       "      <th>Stars</th>\n",
       "      <th>Votes</th>\n",
       "    </tr>\n",
       "  </thead>\n",
       "  <tbody>\n",
       "    <tr>\n",
       "      <th>235</th>\n",
       "      <td>2004</td>\n",
       "      <td>10</td>\n",
       "      <td>18</td>\n",
       "      <td>The Last One: Part 2</td>\n",
       "      <td>30</td>\n",
       "      <td>Phoebe races Ross to the airport in a bid to s...</td>\n",
       "      <td>Kevin Bright</td>\n",
       "      <td>9.7</td>\n",
       "      <td>10381</td>\n",
       "    </tr>\n",
       "    <tr>\n",
       "      <th>110</th>\n",
       "      <td>1999</td>\n",
       "      <td>5</td>\n",
       "      <td>14</td>\n",
       "      <td>The One Where Everybody Finds Out</td>\n",
       "      <td>22</td>\n",
       "      <td>When Phoebe finds out about Monica and Chandle...</td>\n",
       "      <td>Michael Lembeck</td>\n",
       "      <td>9.7</td>\n",
       "      <td>8066</td>\n",
       "    </tr>\n",
       "    <tr>\n",
       "      <th>0</th>\n",
       "      <td>1994</td>\n",
       "      <td>1</td>\n",
       "      <td>1</td>\n",
       "      <td>The One Where Monica Gets a Roommate: The Pilot</td>\n",
       "      <td>22</td>\n",
       "      <td>Monica and the gang introduce Rachel to the \"r...</td>\n",
       "      <td>James Burrows</td>\n",
       "      <td>8.3</td>\n",
       "      <td>7440</td>\n",
       "    </tr>\n",
       "    <tr>\n",
       "      <th>234</th>\n",
       "      <td>2004</td>\n",
       "      <td>10</td>\n",
       "      <td>17</td>\n",
       "      <td>The Last One: Part 1</td>\n",
       "      <td>30</td>\n",
       "      <td>Erica gives birth to the baby that Monica and ...</td>\n",
       "      <td>Kevin Bright</td>\n",
       "      <td>9.5</td>\n",
       "      <td>6221</td>\n",
       "    </tr>\n",
       "    <tr>\n",
       "      <th>84</th>\n",
       "      <td>1998</td>\n",
       "      <td>4</td>\n",
       "      <td>12</td>\n",
       "      <td>The One with the Embryos</td>\n",
       "      <td>22</td>\n",
       "      <td>Phoebe's uterus is examined for implantation o...</td>\n",
       "      <td>Kevin Bright</td>\n",
       "      <td>9.5</td>\n",
       "      <td>6006</td>\n",
       "    </tr>\n",
       "  </tbody>\n",
       "</table>\n",
       "</div>"
      ],
      "text/plain": [
       "     Year_of_prod  Season  Episode Number  \\\n",
       "235          2004      10              18   \n",
       "110          1999       5              14   \n",
       "0            1994       1               1   \n",
       "234          2004      10              17   \n",
       "84           1998       4              12   \n",
       "\n",
       "                                       Episode_Title  Duration  \\\n",
       "235                             The Last One: Part 2        30   \n",
       "110                The One Where Everybody Finds Out        22   \n",
       "0    The One Where Monica Gets a Roommate: The Pilot        22   \n",
       "234                             The Last One: Part 1        30   \n",
       "84                          The One with the Embryos        22   \n",
       "\n",
       "                                               Summary         Director  \\\n",
       "235  Phoebe races Ross to the airport in a bid to s...     Kevin Bright   \n",
       "110  When Phoebe finds out about Monica and Chandle...  Michael Lembeck   \n",
       "0    Monica and the gang introduce Rachel to the \"r...    James Burrows   \n",
       "234  Erica gives birth to the baby that Monica and ...     Kevin Bright   \n",
       "84   Phoebe's uterus is examined for implantation o...     Kevin Bright   \n",
       "\n",
       "     Stars  Votes  \n",
       "235    9.7  10381  \n",
       "110    9.7   8066  \n",
       "0      8.3   7440  \n",
       "234    9.5   6221  \n",
       "84     9.5   6006  "
      ]
     },
     "execution_count": 85,
     "metadata": {},
     "output_type": "execute_result"
    }
   ],
   "source": [
    "# top 5 most voted on episodes\n",
    "df_rating.sort_values(\"Votes\", ascending=False).head(5)"
   ]
  },
  {
   "cell_type": "code",
   "execution_count": 86,
   "id": "ede4984c",
   "metadata": {},
   "outputs": [
    {
     "data": {
      "text/html": [
       "<div>\n",
       "<style scoped>\n",
       "    .dataframe tbody tr th:only-of-type {\n",
       "        vertical-align: middle;\n",
       "    }\n",
       "\n",
       "    .dataframe tbody tr th {\n",
       "        vertical-align: top;\n",
       "    }\n",
       "\n",
       "    .dataframe thead th {\n",
       "        text-align: right;\n",
       "    }\n",
       "</style>\n",
       "<table border=\"1\" class=\"dataframe\">\n",
       "  <thead>\n",
       "    <tr style=\"text-align: right;\">\n",
       "      <th></th>\n",
       "      <th>Year_of_prod</th>\n",
       "      <th>Season</th>\n",
       "      <th>Episode Number</th>\n",
       "      <th>Episode_Title</th>\n",
       "      <th>Duration</th>\n",
       "      <th>Summary</th>\n",
       "      <th>Director</th>\n",
       "      <th>Stars</th>\n",
       "      <th>Votes</th>\n",
       "    </tr>\n",
       "  </thead>\n",
       "  <tbody>\n",
       "    <tr>\n",
       "      <th>212</th>\n",
       "      <td>2003</td>\n",
       "      <td>9</td>\n",
       "      <td>19</td>\n",
       "      <td>The One with Rachel's Dream</td>\n",
       "      <td>22</td>\n",
       "      <td>Joey is insecure now his Days of Our Lives cha...</td>\n",
       "      <td>Terry Hughes</td>\n",
       "      <td>8.1</td>\n",
       "      <td>2616</td>\n",
       "    </tr>\n",
       "    <tr>\n",
       "      <th>213</th>\n",
       "      <td>2003</td>\n",
       "      <td>9</td>\n",
       "      <td>20</td>\n",
       "      <td>The One with the Soap Opera Party</td>\n",
       "      <td>22</td>\n",
       "      <td>Joey throws a cast party on the roof of his bu...</td>\n",
       "      <td>Sheldon Epps</td>\n",
       "      <td>8.2</td>\n",
       "      <td>2615</td>\n",
       "    </tr>\n",
       "    <tr>\n",
       "      <th>204</th>\n",
       "      <td>2003</td>\n",
       "      <td>9</td>\n",
       "      <td>11</td>\n",
       "      <td>The One Where Rachel Goes Back to Work</td>\n",
       "      <td>22</td>\n",
       "      <td>Chandler starts looking for a job and is anxio...</td>\n",
       "      <td>Gary Halvorson</td>\n",
       "      <td>8.0</td>\n",
       "      <td>2601</td>\n",
       "    </tr>\n",
       "    <tr>\n",
       "      <th>209</th>\n",
       "      <td>2003</td>\n",
       "      <td>9</td>\n",
       "      <td>16</td>\n",
       "      <td>The One with the Boob Job</td>\n",
       "      <td>27</td>\n",
       "      <td>When Monica and Chandler both ask Joey for mon...</td>\n",
       "      <td>Gary Halvorson</td>\n",
       "      <td>8.2</td>\n",
       "      <td>2588</td>\n",
       "    </tr>\n",
       "    <tr>\n",
       "      <th>214</th>\n",
       "      <td>2003</td>\n",
       "      <td>9</td>\n",
       "      <td>21</td>\n",
       "      <td>The One with the Fertility Test</td>\n",
       "      <td>22</td>\n",
       "      <td>Still unable to conceive, Monica and Chandler ...</td>\n",
       "      <td>Gary Halvorson</td>\n",
       "      <td>8.2</td>\n",
       "      <td>2557</td>\n",
       "    </tr>\n",
       "  </tbody>\n",
       "</table>\n",
       "</div>"
      ],
      "text/plain": [
       "     Year_of_prod  Season  Episode Number  \\\n",
       "212          2003       9              19   \n",
       "213          2003       9              20   \n",
       "204          2003       9              11   \n",
       "209          2003       9              16   \n",
       "214          2003       9              21   \n",
       "\n",
       "                              Episode_Title  Duration  \\\n",
       "212             The One with Rachel's Dream        22   \n",
       "213       The One with the Soap Opera Party        22   \n",
       "204  The One Where Rachel Goes Back to Work        22   \n",
       "209               The One with the Boob Job        27   \n",
       "214         The One with the Fertility Test        22   \n",
       "\n",
       "                                               Summary        Director  Stars  \\\n",
       "212  Joey is insecure now his Days of Our Lives cha...    Terry Hughes    8.1   \n",
       "213  Joey throws a cast party on the roof of his bu...    Sheldon Epps    8.2   \n",
       "204  Chandler starts looking for a job and is anxio...  Gary Halvorson    8.0   \n",
       "209  When Monica and Chandler both ask Joey for mon...  Gary Halvorson    8.2   \n",
       "214  Still unable to conceive, Monica and Chandler ...  Gary Halvorson    8.2   \n",
       "\n",
       "     Votes  \n",
       "212   2616  \n",
       "213   2615  \n",
       "204   2601  \n",
       "209   2588  \n",
       "214   2557  "
      ]
     },
     "execution_count": 86,
     "metadata": {},
     "output_type": "execute_result"
    }
   ],
   "source": [
    "# top 5 least voted on episodes\n",
    "df_rating.sort_values(\"Votes\", ascending=False).tail(5)"
   ]
  },
  {
   "cell_type": "code",
   "execution_count": 87,
   "id": "75fe31c1",
   "metadata": {},
   "outputs": [
    {
     "data": {
      "text/html": [
       "<div>\n",
       "<style scoped>\n",
       "    .dataframe tbody tr th:only-of-type {\n",
       "        vertical-align: middle;\n",
       "    }\n",
       "\n",
       "    .dataframe tbody tr th {\n",
       "        vertical-align: top;\n",
       "    }\n",
       "\n",
       "    .dataframe thead th {\n",
       "        text-align: right;\n",
       "    }\n",
       "</style>\n",
       "<table border=\"1\" class=\"dataframe\">\n",
       "  <thead>\n",
       "    <tr style=\"text-align: right;\">\n",
       "      <th></th>\n",
       "      <th>Year_of_prod</th>\n",
       "      <th>Season</th>\n",
       "      <th>Episode Number</th>\n",
       "      <th>Episode_Title</th>\n",
       "      <th>Duration</th>\n",
       "      <th>Summary</th>\n",
       "      <th>Director</th>\n",
       "      <th>Stars</th>\n",
       "      <th>Votes</th>\n",
       "    </tr>\n",
       "  </thead>\n",
       "  <tbody>\n",
       "    <tr>\n",
       "      <th>235</th>\n",
       "      <td>2004</td>\n",
       "      <td>10</td>\n",
       "      <td>18</td>\n",
       "      <td>The Last One: Part 2</td>\n",
       "      <td>30</td>\n",
       "      <td>Phoebe races Ross to the airport in a bid to s...</td>\n",
       "      <td>Kevin Bright</td>\n",
       "      <td>9.7</td>\n",
       "      <td>10381</td>\n",
       "    </tr>\n",
       "    <tr>\n",
       "      <th>110</th>\n",
       "      <td>1999</td>\n",
       "      <td>5</td>\n",
       "      <td>14</td>\n",
       "      <td>The One Where Everybody Finds Out</td>\n",
       "      <td>22</td>\n",
       "      <td>When Phoebe finds out about Monica and Chandle...</td>\n",
       "      <td>Michael Lembeck</td>\n",
       "      <td>9.7</td>\n",
       "      <td>8066</td>\n",
       "    </tr>\n",
       "    <tr>\n",
       "      <th>234</th>\n",
       "      <td>2004</td>\n",
       "      <td>10</td>\n",
       "      <td>17</td>\n",
       "      <td>The Last One: Part 1</td>\n",
       "      <td>30</td>\n",
       "      <td>Erica gives birth to the baby that Monica and ...</td>\n",
       "      <td>Kevin Bright</td>\n",
       "      <td>9.5</td>\n",
       "      <td>6221</td>\n",
       "    </tr>\n",
       "    <tr>\n",
       "      <th>84</th>\n",
       "      <td>1998</td>\n",
       "      <td>4</td>\n",
       "      <td>12</td>\n",
       "      <td>The One with the Embryos</td>\n",
       "      <td>22</td>\n",
       "      <td>Phoebe's uterus is examined for implantation o...</td>\n",
       "      <td>Kevin Bright</td>\n",
       "      <td>9.5</td>\n",
       "      <td>6006</td>\n",
       "    </tr>\n",
       "    <tr>\n",
       "      <th>37</th>\n",
       "      <td>1996</td>\n",
       "      <td>2</td>\n",
       "      <td>14</td>\n",
       "      <td>The One with the Prom Video</td>\n",
       "      <td>22</td>\n",
       "      <td>The gang watches a home video from the night o...</td>\n",
       "      <td>James Burrows</td>\n",
       "      <td>9.4</td>\n",
       "      <td>5736</td>\n",
       "    </tr>\n",
       "    <tr>\n",
       "      <th>178</th>\n",
       "      <td>2001</td>\n",
       "      <td>8</td>\n",
       "      <td>9</td>\n",
       "      <td>The One with the Rumor</td>\n",
       "      <td>22</td>\n",
       "      <td>Monica invites Will, an old school friend of h...</td>\n",
       "      <td>Gary Halvorson</td>\n",
       "      <td>9.3</td>\n",
       "      <td>5291</td>\n",
       "    </tr>\n",
       "    <tr>\n",
       "      <th>145</th>\n",
       "      <td>2000</td>\n",
       "      <td>6</td>\n",
       "      <td>25</td>\n",
       "      <td>The One with the Proposal</td>\n",
       "      <td>30</td>\n",
       "      <td>Chandler continues to pretend to hate the idea...</td>\n",
       "      <td>Kevin Bright</td>\n",
       "      <td>9.3</td>\n",
       "      <td>4186</td>\n",
       "    </tr>\n",
       "    <tr>\n",
       "      <th>173</th>\n",
       "      <td>2001</td>\n",
       "      <td>8</td>\n",
       "      <td>4</td>\n",
       "      <td>The One with the Videotape</td>\n",
       "      <td>22</td>\n",
       "      <td>Ross and Rachel tell everyone about the night ...</td>\n",
       "      <td>Kevin Bright</td>\n",
       "      <td>9.3</td>\n",
       "      <td>4114</td>\n",
       "    </tr>\n",
       "    <tr>\n",
       "      <th>96</th>\n",
       "      <td>1998</td>\n",
       "      <td>4</td>\n",
       "      <td>24</td>\n",
       "      <td>The One with Ross's Wedding</td>\n",
       "      <td>30</td>\n",
       "      <td>Phoebe tries to warn the gang that Rachel is c...</td>\n",
       "      <td>Kevin Bright</td>\n",
       "      <td>9.2</td>\n",
       "      <td>4217</td>\n",
       "    </tr>\n",
       "    <tr>\n",
       "      <th>169</th>\n",
       "      <td>2001</td>\n",
       "      <td>7</td>\n",
       "      <td>24</td>\n",
       "      <td>The One with Monica and Chandler's Wedding: Pa...</td>\n",
       "      <td>22</td>\n",
       "      <td>Ross tries to find Chandler with Phoebe's help...</td>\n",
       "      <td>Kevin Bright</td>\n",
       "      <td>9.2</td>\n",
       "      <td>3563</td>\n",
       "    </tr>\n",
       "  </tbody>\n",
       "</table>\n",
       "</div>"
      ],
      "text/plain": [
       "     Year_of_prod  Season  Episode Number  \\\n",
       "235          2004      10              18   \n",
       "110          1999       5              14   \n",
       "234          2004      10              17   \n",
       "84           1998       4              12   \n",
       "37           1996       2              14   \n",
       "178          2001       8               9   \n",
       "145          2000       6              25   \n",
       "173          2001       8               4   \n",
       "96           1998       4              24   \n",
       "169          2001       7              24   \n",
       "\n",
       "                                         Episode_Title  Duration  \\\n",
       "235                               The Last One: Part 2        30   \n",
       "110                  The One Where Everybody Finds Out        22   \n",
       "234                               The Last One: Part 1        30   \n",
       "84                            The One with the Embryos        22   \n",
       "37                         The One with the Prom Video        22   \n",
       "178                             The One with the Rumor        22   \n",
       "145                          The One with the Proposal        30   \n",
       "173                         The One with the Videotape        22   \n",
       "96                         The One with Ross's Wedding        30   \n",
       "169  The One with Monica and Chandler's Wedding: Pa...        22   \n",
       "\n",
       "                                               Summary         Director  \\\n",
       "235  Phoebe races Ross to the airport in a bid to s...     Kevin Bright   \n",
       "110  When Phoebe finds out about Monica and Chandle...  Michael Lembeck   \n",
       "234  Erica gives birth to the baby that Monica and ...     Kevin Bright   \n",
       "84   Phoebe's uterus is examined for implantation o...     Kevin Bright   \n",
       "37   The gang watches a home video from the night o...    James Burrows   \n",
       "178  Monica invites Will, an old school friend of h...   Gary Halvorson   \n",
       "145  Chandler continues to pretend to hate the idea...     Kevin Bright   \n",
       "173  Ross and Rachel tell everyone about the night ...     Kevin Bright   \n",
       "96   Phoebe tries to warn the gang that Rachel is c...     Kevin Bright   \n",
       "169  Ross tries to find Chandler with Phoebe's help...     Kevin Bright   \n",
       "\n",
       "     Stars  Votes  \n",
       "235    9.7  10381  \n",
       "110    9.7   8066  \n",
       "234    9.5   6221  \n",
       "84     9.5   6006  \n",
       "37     9.4   5736  \n",
       "178    9.3   5291  \n",
       "145    9.3   4186  \n",
       "173    9.3   4114  \n",
       "96     9.2   4217  \n",
       "169    9.2   3563  "
      ]
     },
     "execution_count": 87,
     "metadata": {},
     "output_type": "execute_result"
    }
   ],
   "source": [
    "# top 10 highest rated episodes\n",
    "df_rating.sort_values(\"Stars\", ascending=False).head(10)"
   ]
  },
  {
   "cell_type": "code",
   "execution_count": 88,
   "id": "76c80a48",
   "metadata": {},
   "outputs": [
    {
     "data": {
      "text/html": [
       "<div>\n",
       "<style scoped>\n",
       "    .dataframe tbody tr th:only-of-type {\n",
       "        vertical-align: middle;\n",
       "    }\n",
       "\n",
       "    .dataframe tbody tr th {\n",
       "        vertical-align: top;\n",
       "    }\n",
       "\n",
       "    .dataframe thead th {\n",
       "        text-align: right;\n",
       "    }\n",
       "</style>\n",
       "<table border=\"1\" class=\"dataframe\">\n",
       "  <thead>\n",
       "    <tr style=\"text-align: right;\">\n",
       "      <th></th>\n",
       "      <th>Year_of_prod</th>\n",
       "      <th>Season</th>\n",
       "      <th>Episode Number</th>\n",
       "      <th>Episode_Title</th>\n",
       "      <th>Duration</th>\n",
       "      <th>Summary</th>\n",
       "      <th>Director</th>\n",
       "      <th>Stars</th>\n",
       "      <th>Votes</th>\n",
       "    </tr>\n",
       "  </thead>\n",
       "  <tbody>\n",
       "    <tr>\n",
       "      <th>19</th>\n",
       "      <td>1995</td>\n",
       "      <td>1</td>\n",
       "      <td>20</td>\n",
       "      <td>The One with the Evil Orthodontist</td>\n",
       "      <td>22</td>\n",
       "      <td>Rachel and Barry start dating again, despite t...</td>\n",
       "      <td>Peter Bonerz</td>\n",
       "      <td>7.9</td>\n",
       "      <td>3736</td>\n",
       "    </tr>\n",
       "    <tr>\n",
       "      <th>20</th>\n",
       "      <td>1995</td>\n",
       "      <td>1</td>\n",
       "      <td>21</td>\n",
       "      <td>The One with the Fake Monica</td>\n",
       "      <td>22</td>\n",
       "      <td>Monica befriends the woman who stole her credi...</td>\n",
       "      <td>Gail Mancuso</td>\n",
       "      <td>7.9</td>\n",
       "      <td>3769</td>\n",
       "    </tr>\n",
       "    <tr>\n",
       "      <th>176</th>\n",
       "      <td>2001</td>\n",
       "      <td>8</td>\n",
       "      <td>7</td>\n",
       "      <td>The One with the Stain</td>\n",
       "      <td>22</td>\n",
       "      <td>Chandler hires a maid, whom Monica suspects is...</td>\n",
       "      <td>Kevin Bright</td>\n",
       "      <td>7.9</td>\n",
       "      <td>2766</td>\n",
       "    </tr>\n",
       "    <tr>\n",
       "      <th>81</th>\n",
       "      <td>1997</td>\n",
       "      <td>4</td>\n",
       "      <td>9</td>\n",
       "      <td>The One Where They're Going to Party!</td>\n",
       "      <td>22</td>\n",
       "      <td>Monica ends up having to choose between a head...</td>\n",
       "      <td>Peter Bonerz</td>\n",
       "      <td>7.9</td>\n",
       "      <td>3045</td>\n",
       "    </tr>\n",
       "    <tr>\n",
       "      <th>215</th>\n",
       "      <td>2003</td>\n",
       "      <td>9</td>\n",
       "      <td>22</td>\n",
       "      <td>The One with the Donor</td>\n",
       "      <td>22</td>\n",
       "      <td>When Joey hears that his girlfriend Charlie is...</td>\n",
       "      <td>Ben Weiss</td>\n",
       "      <td>7.8</td>\n",
       "      <td>2635</td>\n",
       "    </tr>\n",
       "    <tr>\n",
       "      <th>188</th>\n",
       "      <td>2002</td>\n",
       "      <td>8</td>\n",
       "      <td>19</td>\n",
       "      <td>The One with Joey's Interview</td>\n",
       "      <td>22</td>\n",
       "      <td>Joey prepares for his epic interview with Soap...</td>\n",
       "      <td>Gary Halvorson</td>\n",
       "      <td>7.5</td>\n",
       "      <td>2804</td>\n",
       "    </tr>\n",
       "    <tr>\n",
       "      <th>203</th>\n",
       "      <td>2002</td>\n",
       "      <td>9</td>\n",
       "      <td>10</td>\n",
       "      <td>The One with Christmas in Tulsa</td>\n",
       "      <td>22</td>\n",
       "      <td>Chandler must spend Christmas in Tulsa, which ...</td>\n",
       "      <td>Kevin Bright</td>\n",
       "      <td>7.5</td>\n",
       "      <td>2804</td>\n",
       "    </tr>\n",
       "    <tr>\n",
       "      <th>166</th>\n",
       "      <td>2001</td>\n",
       "      <td>7</td>\n",
       "      <td>21</td>\n",
       "      <td>The One with the Vows</td>\n",
       "      <td>22</td>\n",
       "      <td>Monica and Chandler are getting married in fou...</td>\n",
       "      <td>Gary Halvorson</td>\n",
       "      <td>7.5</td>\n",
       "      <td>2832</td>\n",
       "    </tr>\n",
       "    <tr>\n",
       "      <th>140</th>\n",
       "      <td>2000</td>\n",
       "      <td>6</td>\n",
       "      <td>20</td>\n",
       "      <td>The One with Mac and C.H.E.E.S.E.</td>\n",
       "      <td>22</td>\n",
       "      <td>Chandler forgets to write down a message for J...</td>\n",
       "      <td>Kevin Bright</td>\n",
       "      <td>7.4</td>\n",
       "      <td>3096</td>\n",
       "    </tr>\n",
       "    <tr>\n",
       "      <th>93</th>\n",
       "      <td>1998</td>\n",
       "      <td>4</td>\n",
       "      <td>21</td>\n",
       "      <td>The One with the Invitation</td>\n",
       "      <td>22</td>\n",
       "      <td>As Ross and Emily send out wedding invitations...</td>\n",
       "      <td>Peter Bonerz</td>\n",
       "      <td>7.2</td>\n",
       "      <td>3364</td>\n",
       "    </tr>\n",
       "  </tbody>\n",
       "</table>\n",
       "</div>"
      ],
      "text/plain": [
       "     Year_of_prod  Season  Episode Number  \\\n",
       "19           1995       1              20   \n",
       "20           1995       1              21   \n",
       "176          2001       8               7   \n",
       "81           1997       4               9   \n",
       "215          2003       9              22   \n",
       "188          2002       8              19   \n",
       "203          2002       9              10   \n",
       "166          2001       7              21   \n",
       "140          2000       6              20   \n",
       "93           1998       4              21   \n",
       "\n",
       "                             Episode_Title  Duration  \\\n",
       "19      The One with the Evil Orthodontist        22   \n",
       "20            The One with the Fake Monica        22   \n",
       "176                 The One with the Stain        22   \n",
       "81   The One Where They're Going to Party!        22   \n",
       "215                 The One with the Donor        22   \n",
       "188          The One with Joey's Interview        22   \n",
       "203        The One with Christmas in Tulsa        22   \n",
       "166                  The One with the Vows        22   \n",
       "140      The One with Mac and C.H.E.E.S.E.        22   \n",
       "93             The One with the Invitation        22   \n",
       "\n",
       "                                               Summary        Director  Stars  \\\n",
       "19   Rachel and Barry start dating again, despite t...    Peter Bonerz    7.9   \n",
       "20   Monica befriends the woman who stole her credi...    Gail Mancuso    7.9   \n",
       "176  Chandler hires a maid, whom Monica suspects is...    Kevin Bright    7.9   \n",
       "81   Monica ends up having to choose between a head...    Peter Bonerz    7.9   \n",
       "215  When Joey hears that his girlfriend Charlie is...       Ben Weiss    7.8   \n",
       "188  Joey prepares for his epic interview with Soap...  Gary Halvorson    7.5   \n",
       "203  Chandler must spend Christmas in Tulsa, which ...    Kevin Bright    7.5   \n",
       "166  Monica and Chandler are getting married in fou...  Gary Halvorson    7.5   \n",
       "140  Chandler forgets to write down a message for J...    Kevin Bright    7.4   \n",
       "93   As Ross and Emily send out wedding invitations...    Peter Bonerz    7.2   \n",
       "\n",
       "     Votes  \n",
       "19    3736  \n",
       "20    3769  \n",
       "176   2766  \n",
       "81    3045  \n",
       "215   2635  \n",
       "188   2804  \n",
       "203   2804  \n",
       "166   2832  \n",
       "140   3096  \n",
       "93    3364  "
      ]
     },
     "execution_count": 88,
     "metadata": {},
     "output_type": "execute_result"
    }
   ],
   "source": [
    "# top 10 lowest rated episodes\n",
    "df_rating.sort_values(\"Stars\", ascending=False).tail(10)"
   ]
  }
 ],
 "metadata": {
  "kernelspec": {
   "display_name": "Python 3 (ipykernel)",
   "language": "python",
   "name": "python3"
  },
  "language_info": {
   "codemirror_mode": {
    "name": "ipython",
    "version": 3
   },
   "file_extension": ".py",
   "mimetype": "text/x-python",
   "name": "python",
   "nbconvert_exporter": "python",
   "pygments_lexer": "ipython3",
   "version": "3.11.5"
  }
 },
 "nbformat": 4,
 "nbformat_minor": 5
}
